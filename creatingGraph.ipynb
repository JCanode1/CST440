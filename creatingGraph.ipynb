{
 "cells": [
  {
   "cell_type": "code",
   "execution_count": 2,
   "metadata": {},
   "outputs": [
    {
     "name": "stdout",
     "output_type": "stream",
     "text": [
      "[{'citation': '10.1057/s41275-017-0070-x; 10.1016/j.techsoc.2018.03.005; 10.1007/978-3-319-73165-0_24; 10.1007/978-3-030-00668-6_21; 10.1007/978-3-319-17966-7_10; 10.1007/978-3-319-90548-8_7; 10.1007/978-3-030-01379-0_9; 10.59350/zcrhs-r7h02; 10.1101/108480; 10.7554/elife.32822; 10.1145/3197026.3197050; 10.3233/sw-160224; 10.3233/sw-180307; 10.3233/ds-190016; 10.3233/ds-190019; 10.7717/peerj-cs.421; 10.3346/jkms.2015.30.11.1545; 10.1007/978-3-030-30796-7_8; 10.1007/978-3-030-30796-7_31; 10.1093/bib/bbx057; 10.1371/journal.pone.0238801; 10.1177/0961000615616450; 10.1142/s021964921850034x; 10.3390/app12063203; 10.1007/978-3-319-58694-6_23; 10.1162/qss_a_00183; 10.1186/s12859-019-2607-x; 10.2139/ssrn.3081354; 10.35668/2520-6524-2019-4-10; 10.59350/kgz48-bt453; 10.59350/8pkca-5dx66; 10.1007/978-3-319-68204-4_19; 10.1007/978-3-030-61244-3_16; 10.1109/mcse.2019.2952840', 'reference': '10.1136/bmj.b2680; 10.1145/1217821.1226695; 10.1145/2362499.2362502; 10.1136/bmj.a568; 10.1145/2494266.2494271; 10.1523/jneurosci.0003-08.2008; 10.1007/978-3-319-03524-6_29; 10.1073/pnas.0407743101; 10.1007/bf02457980; 10.1016/j.websem.2012.08.001; 10.1016/j.websem.2013.05.001; 10.1002/(sici)1097-4571(198909)40:5<342::aid-asi7>3.0.co;2-u; 10.1007/s11192-009-0021-2; 10.1002/asi.4630240406; 10.1145/1816123.1816198; 10.1108/jd-07-2012-0082; 10.1038/493159a; 10.1126/science.149.3683.510; 10.1038/495437a; 10.1042/bj20091474; 10.1371/journal.pcbi.1000361; 10.1101/sqb.1972.036.01.015; 10.1038/502295a; 10.1038/502298a; 10.1001/jama.295.1.90; 10.5210/fm.v2i4.522; 10.1525/bio.2010.60.5.2; 10.1177/030631277500500106; 10.5860/crln.73.10.8846; 10.1007/s10579-012-9211-2; 10.1087/2009202; 10.1038/nature28042; 10.1177/030631277400400102; 10.7717/peerj.175; 10.1371/journal.pone.0000308; 10.5539/ass.v9n5p18; 10.1371/journal.pcbi.0010034; 10.1371/journal.pntd.0000228; 10.1007/978-3-540-89704-0_17; 10.3115/1610075.1610091; 10.1007/978-3-642-41242-4_6; 10.1145/1498765.1498780; 10.1108/eum0000000007123; 10.1023/a:1021919228368', 'author': 'Peroni, Silvio, 0000-0003-0530-4305; Dutton, Alexander, 0000-0003-1448-3114; Gray, Tanya; Shotton, David', 'volume': '71', 'source_title': 'Journal Of Documentation', 'citation_count': '34', 'doi': '10.1108/jd-12-2013-0166', 'source_id': 'issn:0022-0418', 'issue': '2', 'page': '253-277', 'oa_link': '', 'year': '2015-03-09', 'title': 'Setting Our Bibliographic References Free: Towards Open Citation Data'}]\n"
     ]
    }
   ],
   "source": [
    "\n",
    "\n",
    "\n",
    "\n",
    "\n",
    "import re\n",
    "from requests import get\n",
    "import requests\n",
    "import os\n",
    "import dotenv\n",
    "dotenv.load_dotenv()\n",
    "\n",
    "ACCESS_TOKEN = os.getenv(\"OPEN_CITATION_API_KEY\")\n",
    "\n",
    "\n",
    "API_CALL = \"https://opencitations.net/api/v1/metadata/10.1108/jd-12-2013-0166\"\n",
    "HTTP_HEADERS = {\"authorization\": \"94762995-8420-4272-a366-8b7aad4c40f8\"}\n",
    "\n",
    "get(API_CALL, headers=HTTP_HEADERS)\n",
    "print(get(API_CALL, headers=HTTP_HEADERS).json())\n",
    "\n",
    "base_url = \"https://opencitations.net/index/api/v1\"\n"
   ]
  },
  {
   "cell_type": "code",
   "execution_count": 44,
   "metadata": {},
   "outputs": [],
   "source": [
    "\n",
    "def get_referances(doi):\n",
    "    # Endpoint for retrieving metadata\n",
    "    endpoint = f\"{base_url}/metadata/{doi}\"\n",
    "\n",
    "    # Make a GET request to the endpoint\n",
    "    response = requests.get(endpoint)\n",
    "    \n",
    "    if response.status_code == 200:\n",
    "        \n",
    "        data = response.json()\n",
    "        \n",
    "        references = data[0].get(\"reference\", \"\")\n",
    "        \n",
    "        return references\n",
    "    else:\n",
    "        # If the request fails, print the error message\n",
    "        print(f\"Failed to retrieve metadata for DOI {doi}. Error: {response.text}\")\n",
    "        return None, None, None\n",
    "\n"
   ]
  },
  {
   "cell_type": "code",
   "execution_count": 45,
   "metadata": {},
   "outputs": [
    {
     "name": "stdout",
     "output_type": "stream",
     "text": [
      "10.1136/bmj.b2680; 10.1145/1217821.1226695; 10.1145/2362499.2362502; 10.1136/bmj.a568; 10.1145/2494266.2494271; 10.1523/jneurosci.0003-08.2008; 10.1007/978-3-319-03524-6_29; 10.1073/pnas.0407743101; 10.1007/bf02457980; 10.1016/j.websem.2012.08.001; 10.1016/j.websem.2013.05.001; 10.1002/(sici)1097-4571(198909)40:5<342::aid-asi7>3.0.co;2-u; 10.1007/s11192-009-0021-2; 10.1002/asi.4630240406; 10.1145/1816123.1816198; 10.1108/jd-07-2012-0082; 10.1038/493159a; 10.1126/science.149.3683.510; 10.1038/495437a; 10.1042/bj20091474; 10.1371/journal.pcbi.1000361; 10.1101/sqb.1972.036.01.015; 10.1038/502295a; 10.1038/502298a; 10.1001/jama.295.1.90; 10.5210/fm.v2i4.522; 10.1525/bio.2010.60.5.2; 10.1177/030631277500500106; 10.5860/crln.73.10.8846; 10.1007/s10579-012-9211-2; 10.1087/2009202; 10.1038/nature28042; 10.1177/030631277400400102; 10.7717/peerj.175; 10.1371/journal.pone.0000308; 10.5539/ass.v9n5p18; 10.1371/journal.pcbi.0010034; 10.1371/journal.pntd.0000228; 10.1007/978-3-540-89704-0_17; 10.3115/1610075.1610091; 10.1007/978-3-642-41242-4_6; 10.1145/1498765.1498780; 10.1108/eum0000000007123; 10.1023/a:1021919228368\n"
     ]
    }
   ],
   "source": [
    "print(get_referances(\"10.1108/jd-12-2013-0166\"))\n"
   ]
  },
  {
   "cell_type": "code",
   "execution_count": 46,
   "metadata": {},
   "outputs": [],
   "source": [
    "\n",
    "def get_author(doi):\n",
    "    # Endpoint for retrieving metadata\n",
    "    endpoint = f\"{base_url}/metadata/{doi}\"\n",
    "\n",
    "    # Make a GET request to the endpoint\n",
    "    response = requests.get(endpoint)\n",
    "    \n",
    "    if response.status_code == 200:\n",
    "        \n",
    "        data = response.json()\n",
    "        \n",
    "        author = data[0].get(\"author\", \"\")\n",
    "        \n",
    "        # Initialize lists to store names and IDs\n",
    "        names = []\n",
    "        ids = []\n",
    "\n",
    "        # Split author data by semicolon to get individual authors\n",
    "        authors = author.split(\";\")\n",
    "\n",
    "        # Iterate over each author\n",
    "        for author in authors:\n",
    "            # Split the author into name and ID\n",
    "            parts = author.strip().split(\",\")\n",
    "            if len(parts) >= 2:\n",
    "                name = parts[0].strip() + \" \" + parts[1].strip()  # Concatenate first name and last name\n",
    "                names.append(name.strip())\n",
    "\n",
    "                if len(parts) == 3:\n",
    "                    author_id = parts[2].strip()\n",
    "                    ids.append(author_id)\n",
    "                else:\n",
    "                    ids.append(None)  # If ID doesn't exist, append None\n",
    "            else:\n",
    "                # If no ID is provided, append None and handle names\n",
    "                names.append(parts[0].strip())\n",
    "                ids.append(None)\n",
    "        return names, ids\n",
    "    else:\n",
    "        # If the request fails, print the error message\n",
    "        print(f\"Failed to retrieve metadata for DOI {doi}. Error: {response.text}\")\n",
    "        return None, None, None\n",
    "\n",
    "\n"
   ]
  },
  {
   "cell_type": "code",
   "execution_count": 48,
   "metadata": {},
   "outputs": [
    {
     "name": "stdout",
     "output_type": "stream",
     "text": [
      "(['Peroni Silvio', 'Dutton Alexander', 'Gray Tanya', 'Shotton David'], ['0000-0003-0530-4305', '0000-0003-1448-3114', None, None])\n"
     ]
    }
   ],
   "source": [
    "print(get_author(\"10.1108/jd-12-2013-0166\"))\n"
   ]
  },
  {
   "cell_type": "code",
   "execution_count": 49,
   "metadata": {},
   "outputs": [],
   "source": [
    "def create_record(doi):\n",
    "    DOI = doi\n",
    "    authors, author_ids = get_author(DOI)\n",
    "    references = get_referances(DOI)\n",
    "    record =  {\n",
    "        \"DOI\": DOI,\n",
    "        \"authors\": authors,\n",
    "        \"author_ids\": author_ids,\n",
    "        \"references\": (references)\n",
    "    }\n",
    "    return record\n",
    "\n",
    "\n"
   ]
  },
  {
   "cell_type": "code",
   "execution_count": 38,
   "metadata": {},
   "outputs": [],
   "source": [
    "test_record = create_record(\"10.1108/jd-12-2013-0166\")\n"
   ]
  },
  {
   "cell_type": "code",
   "execution_count": 50,
   "metadata": {},
   "outputs": [
    {
     "name": "stdout",
     "output_type": "stream",
     "text": [
      "10.1108/jd-12-2013-0166\n",
      "['Peroni Silvio', 'Dutton Alexander', 'Gray Tanya', 'Shotton David']\n",
      "['0000-0003-0530-4305', '0000-0003-1448-3114', None, None]\n",
      "10.1136/bmj.b2680; 10.1145/1217821.1226695; 10.1145/2362499.2362502; 10.1136/bmj.a568; 10.1145/2494266.2494271; 10.1523/jneurosci.0003-08.2008; 10.1007/978-3-319-03524-6_29; 10.1073/pnas.0407743101; 10.1007/bf02457980; 10.1016/j.websem.2012.08.001; 10.1016/j.websem.2013.05.001; 10.1002/(sici)1097-4571(198909)40:5<342::aid-asi7>3.0.co;2-u; 10.1007/s11192-009-0021-2; 10.1002/asi.4630240406; 10.1145/1816123.1816198; 10.1108/jd-07-2012-0082; 10.1038/493159a; 10.1126/science.149.3683.510; 10.1038/495437a; 10.1042/bj20091474; 10.1371/journal.pcbi.1000361; 10.1101/sqb.1972.036.01.015; 10.1038/502295a; 10.1038/502298a; 10.1001/jama.295.1.90; 10.5210/fm.v2i4.522; 10.1525/bio.2010.60.5.2; 10.1177/030631277500500106; 10.5860/crln.73.10.8846; 10.1007/s10579-012-9211-2; 10.1087/2009202; 10.1038/nature28042; 10.1177/030631277400400102; 10.7717/peerj.175; 10.1371/journal.pone.0000308; 10.5539/ass.v9n5p18; 10.1371/journal.pcbi.0010034; 10.1371/journal.pntd.0000228; 10.1007/978-3-540-89704-0_17; 10.3115/1610075.1610091; 10.1007/978-3-642-41242-4_6; 10.1145/1498765.1498780; 10.1108/eum0000000007123; 10.1023/a:1021919228368\n"
     ]
    }
   ],
   "source": [
    "\n",
    "print(test_record['DOI'])\n",
    "print(test_record['authors'])\n",
    "print(test_record['author_ids'])\n",
    "print(test_record['references'])\n",
    "\n",
    "\n"
   ]
  },
  {
   "cell_type": "code",
   "execution_count": 54,
   "metadata": {},
   "outputs": [],
   "source": [
    "import csv\n",
    "def write_record_to_csv(record, filename):\n",
    "    DOI = record['DOI']\n",
    "    authors = record['authors']\n",
    "    author_ids = record['author_ids']\n",
    "    references = record['references']\n",
    "\n",
    "    with open(filename, mode='a', newline='') as file:\n",
    "        writer = csv.writer(file)\n",
    "        \n",
    "        # Write the heade\n",
    "        # Write each record\n",
    "        writer.writerow([DOI, authors, author_ids, references])\n",
    "    \n",
    "\n",
    "write_record_to_csv(test_record, \"test.csv\")"
   ]
  },
  {
   "cell_type": "code",
   "execution_count": 62,
   "metadata": {},
   "outputs": [],
   "source": [
    "import csv\n",
    "\n",
    "def print_header():\n",
    "    # Open the file in append mode and keep it open with the 'with' statement\n",
    "    with open(\"test.csv\", mode='w', newline='') as file:\n",
    "        # Create a CSV writer object\n",
    "        writer = csv.writer(file)\n",
    "\n",
    "\n",
    "        # Write the row\n",
    "        writer.writerow(['DOI', 'Author', 'Author ID', 'Reference'])\n"
   ]
  },
  {
   "cell_type": "code",
   "execution_count": 64,
   "metadata": {},
   "outputs": [],
   "source": [
    "def run(doi_list):\n",
    "    for doi in doi_list:\n",
    "        record = create_record(doi)\n",
    "        write_record_to_csv(record, \"test.csv\")\n",
    "        \n"
   ]
  },
  {
   "cell_type": "code",
   "execution_count": 63,
   "metadata": {},
   "outputs": [],
   "source": [
    "print_header()"
   ]
  },
  {
   "cell_type": "code",
   "execution_count": null,
   "metadata": {},
   "outputs": [],
   "source": []
  }
 ],
 "metadata": {
  "kernelspec": {
   "display_name": "Python 3",
   "language": "python",
   "name": "python3"
  },
  "language_info": {
   "codemirror_mode": {
    "name": "ipython",
    "version": 3
   },
   "file_extension": ".py",
   "mimetype": "text/x-python",
   "name": "python",
   "nbconvert_exporter": "python",
   "pygments_lexer": "ipython3",
   "version": "3.11.6"
  }
 },
 "nbformat": 4,
 "nbformat_minor": 2
}

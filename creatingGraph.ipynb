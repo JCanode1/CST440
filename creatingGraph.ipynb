{
 "cells": [
  {
   "cell_type": "code",
   "execution_count": 37,
   "metadata": {},
   "outputs": [
    {
     "name": "stdout",
     "output_type": "stream",
     "text": [
      "[{'citation': '10.1057/s41275-017-0070-x; 10.1016/j.techsoc.2018.03.005; 10.1007/978-3-319-73165-0_24; 10.1007/978-3-030-00668-6_21; 10.1007/978-3-319-17966-7_10; 10.1007/978-3-319-90548-8_7; 10.1007/978-3-030-01379-0_9; 10.59350/zcrhs-r7h02; 10.1101/108480; 10.7554/elife.32822; 10.1145/3197026.3197050; 10.3233/sw-160224; 10.3233/sw-180307; 10.3233/ds-190016; 10.3233/ds-190019; 10.7717/peerj-cs.421; 10.3346/jkms.2015.30.11.1545; 10.1007/978-3-030-30796-7_8; 10.1007/978-3-030-30796-7_31; 10.1093/bib/bbx057; 10.1371/journal.pone.0238801; 10.1177/0961000615616450; 10.1142/s021964921850034x; 10.3390/app12063203; 10.1007/978-3-319-58694-6_23; 10.1162/qss_a_00183; 10.1186/s12859-019-2607-x; 10.2139/ssrn.3081354; 10.35668/2520-6524-2019-4-10; 10.59350/kgz48-bt453; 10.59350/8pkca-5dx66; 10.1007/978-3-319-68204-4_19; 10.1007/978-3-030-61244-3_16; 10.1109/mcse.2019.2952840', 'reference': '10.1136/bmj.b2680; 10.1145/1217821.1226695; 10.1145/2362499.2362502; 10.1136/bmj.a568; 10.1145/2494266.2494271; 10.1523/jneurosci.0003-08.2008; 10.1007/978-3-319-03524-6_29; 10.1073/pnas.0407743101; 10.1007/bf02457980; 10.1016/j.websem.2012.08.001; 10.1016/j.websem.2013.05.001; 10.1002/(sici)1097-4571(198909)40:5<342::aid-asi7>3.0.co;2-u; 10.1007/s11192-009-0021-2; 10.1002/asi.4630240406; 10.1145/1816123.1816198; 10.1108/jd-07-2012-0082; 10.1038/493159a; 10.1126/science.149.3683.510; 10.1038/495437a; 10.1042/bj20091474; 10.1371/journal.pcbi.1000361; 10.1101/sqb.1972.036.01.015; 10.1038/502295a; 10.1038/502298a; 10.1001/jama.295.1.90; 10.5210/fm.v2i4.522; 10.1525/bio.2010.60.5.2; 10.1177/030631277500500106; 10.5860/crln.73.10.8846; 10.1007/s10579-012-9211-2; 10.1087/2009202; 10.1038/nature28042; 10.1177/030631277400400102; 10.7717/peerj.175; 10.1371/journal.pone.0000308; 10.5539/ass.v9n5p18; 10.1371/journal.pcbi.0010034; 10.1371/journal.pntd.0000228; 10.1007/978-3-540-89704-0_17; 10.3115/1610075.1610091; 10.1007/978-3-642-41242-4_6; 10.1145/1498765.1498780; 10.1108/eum0000000007123; 10.1023/a:1021919228368', 'author': 'Peroni, Silvio, 0000-0003-0530-4305; Dutton, Alexander, 0000-0003-1448-3114; Gray, Tanya; Shotton, David', 'volume': '71', 'source_title': 'Journal Of Documentation', 'citation_count': '34', 'doi': '10.1108/jd-12-2013-0166', 'source_id': 'issn:0022-0418', 'issue': '2', 'page': '253-277', 'oa_link': '', 'year': '2015-03-09', 'title': 'Setting Our Bibliographic References Free: Towards Open Citation Data'}]\n"
     ]
    }
   ],
   "source": [
    "\n",
    "\n",
    "\n",
    "\n",
    "\n",
    "import re\n",
    "from requests import get\n",
    "import requests\n",
    "import os\n",
    "import dotenv\n",
    "dotenv.load_dotenv()\n",
    "\n",
    "ACCESS_TOKEN = os.getenv(\"OPEN_CITATION_API_KEY\")\n",
    "\n",
    "\n",
    "API_CALL = \"https://opencitations.net/api/v1/metadata/10.1108/jd-12-2013-0166\"\n",
    "HTTP_HEADERS = {\"authorization\": \"94762995-8420-4272-a366-8b7aad4c40f8\"}\n",
    "\n",
    "get(API_CALL, headers=HTTP_HEADERS)\n",
    "print(get(API_CALL, headers=HTTP_HEADERS).json())\n",
    "\n",
    "base_url = \"https://opencitations.net/index/api/v1\"\n"
   ]
  },
  {
   "cell_type": "code",
   "execution_count": 38,
   "metadata": {},
   "outputs": [],
   "source": [
    "\n",
    "def get_referances(doi):\n",
    "    # Endpoint for retrieving metadata\n",
    "    endpoint = f\"{base_url}/metadata/{doi}\"\n",
    "\n",
    "    # Make a GET request to the endpoint\n",
    "    response = requests.get(endpoint)\n",
    "    \n",
    "    if response.status_code == 200:\n",
    "        \n",
    "        data = response.json()\n",
    "        \n",
    "        references = data[0].get(\"reference\", \"\")\n",
    "        \n",
    "        return references\n",
    "    else:\n",
    "        # If the request fails, print the error message\n",
    "        print(f\"Failed to retrieve metadata for DOI {doi}. Error: {response.text}\")\n",
    "        return None\n",
    "\n"
   ]
  },
  {
   "cell_type": "code",
   "execution_count": 39,
   "metadata": {},
   "outputs": [
    {
     "name": "stdout",
     "output_type": "stream",
     "text": [
      "Failed to retrieve metadata for DOI 10.5210/fm.v2i4.522. Error: No API operation found at URL '/api/v1/metadata/10.5210/fm.v2i4.522'\n",
      "None\n"
     ]
    }
   ],
   "source": [
    "print(get_referances(\"10.5210/fm.v2i4.522\"))\n"
   ]
  },
  {
   "cell_type": "code",
   "execution_count": 40,
   "metadata": {},
   "outputs": [],
   "source": [
    "\n",
    "def get_author(doi):\n",
    "    # Endpoint for retrieving metadata\n",
    "    endpoint = f\"{base_url}/metadata/{doi}\"\n",
    "\n",
    "    # Make a GET request to the endpoint\n",
    "    response = requests.get(endpoint)\n",
    "    \n",
    "    if response.status_code == 200:\n",
    "        \n",
    "        data = response.json()\n",
    "        \n",
    "        \n",
    "        author = data[0].get(\"author\", \"\")\n",
    "        if author == None:\n",
    "            return None\n",
    "    \n",
    "        # Initialize lists to store names and IDs\n",
    "        names = []\n",
    "        ids = []\n",
    "\n",
    "        # Split author data by semicolon to get individual authors\n",
    "        authors = author.split(\";\")\n",
    "\n",
    "        # Iterate over each author\n",
    "        for author in authors:\n",
    "            # Split the author into name and ID\n",
    "            parts = author.strip().split(\",\")\n",
    "            if len(parts) >= 2:\n",
    "                name = parts[0].strip() + \" \" + parts[1].strip()  # Concatenate first name and last name\n",
    "                names.append(name.strip())\n",
    "\n",
    "                if len(parts) == 3:\n",
    "                    author_id = parts[2].strip()\n",
    "                    ids.append(author_id)\n",
    "                else:\n",
    "                    ids.append(None)  # If ID doesn't exist, append None\n",
    "            else:\n",
    "                # If no ID is provided, append None and handle names\n",
    "                names.append(parts[0].strip())\n",
    "                ids.append(None)\n",
    "        return names, ids\n",
    "    else:\n",
    "        # If the request fails, print the error message\n",
    "        print(f\"Failed to retrieve metadata for DOI {doi}. Error: {response.text}\")\n",
    "        return None\n",
    "\n",
    "\n"
   ]
  },
  {
   "cell_type": "code",
   "execution_count": 41,
   "metadata": {},
   "outputs": [
    {
     "name": "stdout",
     "output_type": "stream",
     "text": [
      "Failed to retrieve metadata for DOI 10.5210/fm.v2i4.522. Error: No API operation found at URL '/api/v1/metadata/10.5210/fm.v2i4.522'\n",
      "None\n"
     ]
    }
   ],
   "source": [
    "print(get_author(\"10.5210/fm.v2i4.522\"))\n"
   ]
  },
  {
   "cell_type": "code",
   "execution_count": 45,
   "metadata": {},
   "outputs": [],
   "source": [
    "def create_record(doi):\n",
    "    try:\n",
    "        DOI = doi\n",
    "        \n",
    "        authors, author_ids = get_author(DOI)\n",
    "        references = get_referances(DOI)\n",
    "        \n",
    "        print(authors)\n",
    "        \n",
    "        record =  {\n",
    "            \"DOI\": DOI,\n",
    "            \"authors\": authors,\n",
    "            \"author_ids\": author_ids,\n",
    "            \"references\": (references)\n",
    "        }\n",
    "        \n",
    "        return record\n",
    "    except:\n",
    "        print(\"Failed to create record\")\n",
    "        return None\n",
    "\n",
    "\n"
   ]
  },
  {
   "cell_type": "code",
   "execution_count": 46,
   "metadata": {},
   "outputs": [
    {
     "name": "stdout",
     "output_type": "stream",
     "text": [
      "Failed to retrieve metadata for DOI 10.5210/fm.v2i4.522. Error: No API operation found at URL '/api/v1/metadata/10.5210/fm.v2i4.522'\n",
      "Failed to create record\n"
     ]
    }
   ],
   "source": [
    "test_record = create_record(\"10.5210/fm.v2i4.522\")\n"
   ]
  },
  {
   "cell_type": "code",
   "execution_count": 43,
   "metadata": {},
   "outputs": [
    {
     "name": "stdout",
     "output_type": "stream",
     "text": [
      "10.1108/jd-12-2013-0166\n",
      "['Peroni Silvio', 'Dutton Alexander', 'Gray Tanya', 'Shotton David']\n",
      "['0000-0003-0530-4305', '0000-0003-1448-3114', None, None]\n",
      "10.1136/bmj.b2680; 10.1145/1217821.1226695; 10.1145/2362499.2362502; 10.1136/bmj.a568; 10.1145/2494266.2494271; 10.1523/jneurosci.0003-08.2008; 10.1007/978-3-319-03524-6_29; 10.1073/pnas.0407743101; 10.1007/bf02457980; 10.1016/j.websem.2012.08.001; 10.1016/j.websem.2013.05.001; 10.1002/(sici)1097-4571(198909)40:5<342::aid-asi7>3.0.co;2-u; 10.1007/s11192-009-0021-2; 10.1002/asi.4630240406; 10.1145/1816123.1816198; 10.1108/jd-07-2012-0082; 10.1038/493159a; 10.1126/science.149.3683.510; 10.1038/495437a; 10.1042/bj20091474; 10.1371/journal.pcbi.1000361; 10.1101/sqb.1972.036.01.015; 10.1038/502295a; 10.1038/502298a; 10.1001/jama.295.1.90; 10.5210/fm.v2i4.522; 10.1525/bio.2010.60.5.2; 10.1177/030631277500500106; 10.5860/crln.73.10.8846; 10.1007/s10579-012-9211-2; 10.1087/2009202; 10.1038/nature28042; 10.1177/030631277400400102; 10.7717/peerj.175; 10.1371/journal.pone.0000308; 10.5539/ass.v9n5p18; 10.1371/journal.pcbi.0010034; 10.1371/journal.pntd.0000228; 10.1007/978-3-540-89704-0_17; 10.3115/1610075.1610091; 10.1007/978-3-642-41242-4_6; 10.1145/1498765.1498780; 10.1108/eum0000000007123; 10.1023/a:1021919228368\n"
     ]
    }
   ],
   "source": [
    "\n",
    "print(test_record['DOI'])\n",
    "print(test_record['authors'])\n",
    "print(test_record['author_ids'])\n",
    "print(test_record['references'])\n",
    "\n",
    "\n"
   ]
  },
  {
   "cell_type": "code",
   "execution_count": 15,
   "metadata": {},
   "outputs": [],
   "source": [
    "import csv\n",
    "def write_record_to_csv(record, filename):\n",
    "    try:\n",
    "        DOI = record['DOI']\n",
    "        authors = record['authors']\n",
    "        author_ids = record['author_ids']\n",
    "        references = record['references']\n",
    "        \n",
    "        with open(filename, mode='a', newline='') as file:\n",
    "            writer = csv.writer(file)\n",
    "            \n",
    "            # Write the heade\n",
    "            # Write each record\n",
    "            writer.writerow([DOI, authors, author_ids, references])\n",
    "    except:\n",
    "        print(\"Failed to write record to CSV\")    \n",
    "\n",
    "write_record_to_csv(test_record, \"test.csv\")"
   ]
  },
  {
   "cell_type": "code",
   "execution_count": 16,
   "metadata": {},
   "outputs": [],
   "source": [
    "import csv\n",
    "\n",
    "def print_csv_header():\n",
    "    # Open the file in append mode and keep it open with the 'with' statement\n",
    "    with open(\"test.csv\", mode='w', newline='') as file:\n",
    "        # Create a CSV writer object\n",
    "        writer = csv.writer(file)\n",
    "\n",
    "\n",
    "        # Write the row\n",
    "        writer.writerow(['DOI', 'Author', 'Author ID', 'Reference'])\n"
   ]
  },
  {
   "cell_type": "code",
   "execution_count": 17,
   "metadata": {},
   "outputs": [],
   "source": [
    "def run(doi_list):\n",
    "    i = 0\n",
    "    \n",
    "    for doi in doi_list:    \n",
    "        print(i)\n",
    "        i +=1\n",
    "        record = create_record(doi)\n",
    "        write_record_to_csv(record, \"test.csv\")\n",
    "        \n"
   ]
  },
  {
   "cell_type": "code",
   "execution_count": 18,
   "metadata": {},
   "outputs": [],
   "source": [
    "print_csv_header()"
   ]
  },
  {
   "cell_type": "code",
   "execution_count": 19,
   "metadata": {},
   "outputs": [
    {
     "name": "stdout",
     "output_type": "stream",
     "text": [
      "Duplicate lines removed. Unique lines written back to referencesList.txt\n"
     ]
    }
   ],
   "source": [
    "def remove_duplicate_lines(filename):\n",
    "    # Read lines from the file\n",
    "    with open(filename, 'r') as file:\n",
    "        lines = file.readlines()\n",
    "\n",
    "    # Remove duplicates while preserving order\n",
    "    unique_lines = []\n",
    "    for line in lines:\n",
    "        if line.strip() not in unique_lines:\n",
    "            unique_lines.append(line.strip())\n",
    "\n",
    "    # Write unique lines back to the file\n",
    "    with open(filename, 'w') as file:\n",
    "        for line in unique_lines:\n",
    "            file.write(line + '\\n')\n",
    "\n",
    "    print(f\"Duplicate lines removed. Unique lines written back to {filename}\")\n",
    "\n",
    "\n",
    "# Test the function\n",
    "filename = 'referencesList.txt'\n",
    "remove_duplicate_lines(filename)\n"
   ]
  },
  {
   "cell_type": "code",
   "execution_count": 20,
   "metadata": {},
   "outputs": [
    {
     "name": "stdout",
     "output_type": "stream",
     "text": [
      "['10.1136/bmj.b2680', '10.1145/1217821.1226695', '10.1145/2362499.2362502', '10.1136/bmj.a568', '10.1145/2494266.2494271', '10.1523/jneurosci.0003-08.2008', '10.1007/978-3-319-03524-6_29', '10.1073/pnas.0407743101', '10.1007/bf02457980', '10.1016/j.websem.2012.08.001', '10.1016/j.websem.2013.05.001', '10.1002/(sici)1097-4571(198909)40:5<342::aid-asi7>3.0.co;2-u', '10.1007/s11192-009-0021-2', '10.1002/asi.4630240406', '10.1145/1816123.1816198', '10.1108/jd-07-2012-0082', '10.1038/493159a', '10.1126/science.149.3683.510', '10.1038/495437a', '10.1042/bj20091474', '10.1371/journal.pcbi.1000361', '10.1101/sqb.1972.036.01.015', '10.1038/502295a', '10.1038/502298a', '10.1001/jama.295.1.90', '10.5210/fm.v2i4.522', '10.1525/bio.2010.60.5.2', '10.1177/030631277500500106', '10.5860/crln.73.10.8846', '10.1007/s10579-012-9211-2', '10.1087/2009202', '10.1038/nature28042', '10.1177/030631277400400102', '10.7717/peerj.175', '10.1371/journal.pone.0000308', '10.5539/ass.v9n5p18', '10.1371/journal.pcbi.0010034', '10.1371/journal.pntd.0000228', '10.1007/978-3-540-89704-0_17', '10.3115/1610075.1610091', '10.1007/978-3-642-41242-4_6', '10.1145/1498765.1498780', '10.1108/eum0000000007123', '10.1023/a:1021919228368', '7855331', '10.1055/s-2003-41136', '10.1055/s-2002-33047', '10.1111/j.1365-2990.2006.00821.x', '10.1111/j.1365-2990.2004.00577.x', '10.1212/wnl.54.5.1033', '10.1002/(sici)1097-4598(199606)19:6<787::aid-mus18>3.0.co;2-i', '10.1002/(sici)1097-4598(199612)19:12<1605::aid-mus11>3.0.co;2-q', '10.1002/(sici)1097-4598(199706)20:6<651::aid-mus1>3.0.co;2-7', '10342053', '10.1055/s-2008-1041132', '10.1016/s0889-857x(02)00030-3', '10.1016/s0889-857x(02)00023-6', '8625545', '10.1006/mgme.2001.3256', '10.1093/brain/119.6.1887', '10.1212/wnl.48.4.863', '10.1002/(sici)1097-4598(199710)20:10<1242::aid-mus6>3.0.co;2-c', '10.1002/(sici)1097-4598(199812)21:12<1724::aid-mus15>3.0.co;2-2', '10.1002/(sici)1097-4598(200006)23:6<970::aid-mus20>3.0.co;2-i', '10.1212/01.wnl.0000192103.24796.42', '10.1007/s10067-003-0715-4', '10.1212/01.wnl.0000192311.78890.3e', '10.1212/01.wnl.0000192110.22621.09', '10.1212/01.wnl.0000192127.63013.8d', '10.1212/01.wnl.0000192128.13875.1e', '10.1212/01.wnl.0000192108.02654.ac', '10.1212/01.wnl.0000192109.81449.7a', '10.1212/01.wnl.0000192307.15103.83', '10.1212/01.wnl.0000192260.33106.bb', '9160898', '10.1212/01.wnl.0000192107.17175.39', '10.1212/01.wnl.0000192129.65677.87', '10.1212/01.wnl.0000192259.34541.e4', '10.1212/01.wnl.0000192306.98198.ec', '8574634', '9010966', '10.1016/j.jchemneu.2004.03.009', '10.2353/ajpath.2006.051232', '10.1007/s11940-999-0008-6', '10.1212/wnl.56.3.323', '10.2169/internalmedicine.42.1035', '10.1016/s0304-3940(98)00657-0', '10.1111/j.1365-2249.1994.tb06604.x', '10.1007/s11940-000-0019-9', '10.1034/j.1600-0404.2001.103002131.x', '10.1007/bf01540896', '10.1093/brain/123.2.374', '10.1007/s11926-002-0088-8', '10.1212/wnl.48.1.29', '10.1212/wnl.54.1.65', '10.1212/wnl.58.7.1081', '10.1002/mus.20766', '10.1002/mus.20709', '10.1002/mus.20612', '10.1002/ana.21115', '10.1002/ana.21103', '10.1073/pnas.082545599', '10.4161/auto.4270', '10.1016/j.nmd.2006.08.009', '10.1002/mus.1178', '8836611', '10774946', '15696783', '11411094', '16315367', '10.1074/jbc.m512649200', '10.1080/030097498442208', '10.1016/j.febslet.2004.08.062', '10.1212/wnl.48.3.567', '10.1007/s004010051053', '10.1001/jama.291.19.2367', '10.1002/ana.410370709', '10.1002/ana.410410403', '10.1002/ana.410380504', '10.1016/0006-8993(93)91260-y', '10.1016/j.revmed.2004.04.007', '10.1159/000078488', '10.1159/000074911', '10.1212/wnl.47.4.977', '10.1006/exnr.1994.1109', '10.1097/00002281-199305060-00007', '10.1097/bor.0b013e3282efe261', '10.1097/bor.0b013e3282efdc7c', '10.1097/00002281-199411000-00008', '10.1097/00002281-199401000-00011', '10.1097/00002281-199411000-00004', '10.1097/00002281-199511000-00005', '10.1016/j.jns.2004.11.036', '10.1016/j.berh.2004.02.009', '10.1126/science.122.3159.108', '10.1016/j.clinph.2007.03.023', '10.1097/00002281-199811000-00005', '10.1097/01.bor.0000142339.24380.b7', '10.1097/01.bor.0000143441.27065.bc', '10.1097/01.bor.0000141925.21941.d8', '10.1097/00002281-200311000-00009', '10.1097/00002281-200111000-00003', '10.1097/00002281-200211000-00004', '10.1097/00002281-199911000-00002', '10.1074/jbc.275.12.8703', '10.1177/08830738030180030401', '10.1038/ncprheum0140', '10.1097/00005072-199607000-00003', '10.1097/00005072-199805000-00003', '10.1016/s0003-9993(97)90043-5', '10.1111/j.1749-6632.1998.tb10908.x', '9801848', '11774706', '10.1080/08916930600622132', '10.1093/brain/121.11.2119', '10.1074/jbc.m408473200', '10.1097/01.wco.0000183115.14175.29', '10.1097/00019052-200410000-00006', '10.1097/00019052-200110000-00007', '10.1097/00019052-200210000-00002', '10.1097/00019052-199910000-00006', '10.1097/00019052-199810000-00007', '10.1096/fj.06-5763fje', '9033257', '10.1016/s0197-0186(01)00064-x', '10.1111/j.1445-5994.2000.tb00821.x', '10.1212/wnl.51.6.1742', '10.1212/01.wnl.0000277527.69388.fe', '10.1016/s0165-5728(97)00122-7', '10.1016/s0165-5728(97)00246-4', '10.1016/s0165-5728(97)00245-2', '10.1016/s0165-5728(98)00163-5', '10.1016/0304-3940(95)11718-c', '10.1046/j.1365-3083.2003.01251.x', '10.1016/s0002-9440(10)65056-0', '10.1007/bf02444002', '10.1212/wnl.54.8.1665', '10.1212/wnl.43.6.1265-a', '10.1212/01.wnl.0000138574.56908.5d', '10.1097/00125480-199805000-00003', '10.1016/s0140-6736(01)06969-0', '10.1016/0304-3940(94)90785-4', '10.1016/0304-3940(94)11108-u', '10.1016/s0733-8619(05)70337-6', '10.1007/s10072-005-0390-0', '10.1093/brain/124.2.341', '10.1093/brain/120.4.653', '10.1093/brain/123.10.2030', '10.1093/brain/121.6.1089', '10.1001/archneur.61.1.132', '10.1001/archneur.57.11.1561', '10.1001/archneur.55.7.915', '10.1136/bmj.329.7480.1464', '10.1073/pnas.93.3.1314', '10.1016/j.nmd.2005.12.008', '10.1212/wnl.51.2.598', '10.1212/wnl.58.3.438', '10.1212/wnl.57.9.1561', '10.1212/wnl.42.11.2231-a', '10.1007/s10072-003-0090-6', '10.1007/s100720070103', '10.1097/00005792-200109000-00006', '10.1016/s0002-9440(10)65681-7', '10.1001/archneur.1991.00530240033013', '9773019', '10.1016/s0960-8966(03)00140-8', '7804466', '1321564', '10.1016/s0002-9440(10)64983-8', '10.1097/00019052-199312000-00008', '10.1097/00019052-199606000-00015', '10.1097/00019052-199710000-00010', '10.1136/jnnp.68.2.230', '10.1212/01.wnl.0000237005.54105.d7', '12407303', '10617916', '1327303', '10.1016/j.neurobiolaging.2005.02.011', '10.1016/j.neurobiolaging.2004.06.013', '10.1136/jnnp.64.3.396', '10.1001/archneur.55.12.1509', '10.1111/j.1750-3639.2005.tb00504.x', '10.1097/00001756-200107030-00010', '10.1016/s0002-9440(10)65682-9', '10.1016/s0002-9440(10)64947-4', '17039976', '15975052', '10.1016/j.jneuroim.2007.04.022', '10.1016/j.pharmthera.2004.04.002', '10.1097/00001756-199310000-00006', '10.1097/00001756-199707070-00012', '10.1097/00001756-199810050-00013', '10.1111/j.1750-3639.2001.tb00390.x', '10.1097/00001756-199612200-00031', '10.1006/mcne.2001.0972', '10.1046/j.1471-4159.1997.69041580.x', '10.1007/bf00294256', '10.1007/s00401-003-0794-y', '10.1212/wnl.45.7.1302', '10.1212/wnl.59.8.1170', '10.1055/s-2003-38616', '10.1073/pnas.0603386103', '10.1016/s0140-6736(98)05208-8', '8156142', '8156143', '7992830', '7992832', '8178939', '8291607', '10.1517/13543784.10.7.1265', '8939201', '10.1016/s0002-9440(10)62994-x', '8885477', '10.1016/0304-3940(92)90241-x', '10.1016/s0002-9440(10)63089-1', '10.1358/dnp.2006.19.9.1050424', '10.1136/jnnp.63.6.776', '10.1212/wnl.53.8.1671', '10.1016/s0168-0102(98)00020-0', '10.1016/s1474-4422(07)70171-0', '10.1007/bf00186623', '10.1136/jnnp.60.3.251', '10.1136/ard.2004.025494', '10.1103/physrevlett.89.208701', '10.1002/(sici)1097-4547(20000215)59:4<553::aid-jnr11>3.0.co;2-4', '10.1002/jemt.20186', '10.1097/01.wad.0000183081.76820.5a', '10.1093/brain/awl020', '10.1002/ana.410380619', '10.1016/s0140-6736(94)91208-4', '10.1016/s0304-3940(00)01485-3', '1333783', '10.1007/s004150050005', '10.1007/s004150050087', '10.1007/s00401-007-0281-y', '10.1007/s00401-006-0079-3', '10.1007/s00401-005-1035-3', '10.1002/ana.410410116', '10.1212/01.wnl.0000071219.85847.4e', '10.1002/mus.880180914', '10.1001/jama.298.21.2517', '10.1002/ana.410400223', '10.1002/ana.410390615', '10.1002/ana.410400608', '10.1016/s0046-8177(97)90002-2', '10.1016/s0046-8177(98)90425-7', '10.1016/0140-6736(92)90388-j', '10852549', '10.1016/j.nmd.2005.01.011', '10.1002/neu.480250505', '10.1093/jnen/59.7.592', '10.1093/jnen/63.6.650', '10.1093/jnen/60.1.1', '10.1212/wnl.42.4.897', '10.1002/mus.20338', '10.1016/s0304-3940(00)01156-3', '10762172', '10.1111/j.1365-2133.2000.03746.x', '10.1046/j.1365-2613.2000.00156.x', '10.1111/j.1471-4159.2006.03668.x', '10.1111/j.1471-4159.2005.03584.x', '10.1097/00005072-199605000-00009', '10.1007/s00415-004-0353-z', '10.1007/s00415-003-0204-3', '10.1007/s00415-003-1046-8', '10.1212/wnl.51.6_suppl_5.s37', '10.1111/j.1399-0039.2004.00310.x', '10.1007/978-1-4615-1249-3_18', '10.1097/00001756-199306000-00055', '10.1097/00002826-199210000-00001', '10.1007/bf00334447', '10.1016/j.expneurol.2006.12.014', '10.1136/ard.52.2.147', '10.1093/hmg/ddi426', '10.1053/apmr.2000.5585', '10.1212/wnl.48.3.712', '10.1002/ana.410390122', '10.1046/j.1365-2133.1999.03172.x', '10.1073/pnas.0608885104', '10.1016/0006-8993(95)00917-f', '10.1016/s0140-6736(03)14368-1', '10.1016/0960-8966(93)90021-b', '10.1016/s0960-8966(00)00144-9', '10.1016/s0960-8966(00)00219-4', '10.1016/s0960-8966(01)00194-8', '9546349', '10.1016/s0002-9440(10)65680-5', '10.1002/ana.410440215', '10.1038/ncpneuro0261', '10.1046/j.1471-4159.2003.01798.x', '10.1097/01.jnen.0000228204.19915.69', '10.1097/00005072-199611000-00001', '10.1093/hmg/ddm037', '10.1212/wnl.53.9.2184', '10.1002/mus.10550', '10.1002/mus.10462', '10.1002/mus.10313', '10.1067/mai.2003.92', '10.1002/ana.410340408', '10.1002/ana.410400407', '10.1002/ana.410370615', '10.1007/s002510050528', '10.1093/ageing/afj014', '7925489', '10.1097/00001756-199505090-00024', '10.1093/brain/123.9.1964', '10.1016/s0169-7552(98)00110-x', '10.1109/mc.2005.423', '10.1016/j.joi.2006.06.001', '10.1145/1147376.1147381', '10.1145/1168092.1168093', '10.1177/0165551506062327', '10.1038/439770a', '10.1145/503124.503150', '10.1007/978-3-540-89197-0_56', '10.1007/978-3-540-87877-3_11', '10.1371/journal.pbio.0040157', '10.1136/bmj.329.7465.546', '10.1136/bmj.330.7494.759', '10.1136/bmj.38359.695220.82', '10.1136/bmj.38422.611736.e0', '10.1136/bmj.330.7500.1097', '10.1093/bioinformatics/btq383', '10.1186/1751-0473-7-7', '10.1186/1742-5581-3-1', '10.1007/11669487_12', '10.14778/1687553.1687577', '10.5860/crln.68.5.7804', '10.1002/asi.23088', '10.1145/2361354.2361396', '10.1007/978-3-642-35176-1_26', '10.1109/mis.2010.49', '10.1145/2494266.2494319', '10.1007/978-3-540-39964-3_52', '10.1087/20110309', '10.1007/978-3-642-33876-2_12', '10.1002/asi.21591', '10.1177/016224399101600404', '10.1192/bjp.183.4.273', '10.1002/asi.10278', '10.1002/asi.1123', '10.1108/eum0000000007089', '10.1126/science.144.3619.649', '10.1177/007327537901700202', '10.1073/pnas.0307852100', '10.1007/s100510050359', '10.1002/(sici)1097-4571(199308)44:7<406::aid-asi6>3.0.co;2-8', '10.1002/(sici)1097-4571(199312)44:10<590::aid-asi5>3.0.co;2-u', '10.1177/030631277500500403', '10.1515/9781400820412', '10.1007/bf02017065', '10.1007/bf02018057', '10.1007/bf02017064', '10.1007/bf02016669', '10.1177/030631285015001005', '10.1108/eb026703', '10.1177/030631284014001006', '10.1038/227669a0', '10.1177/030631277400400305', '10.1017/cbo9780511814563', '10.1007/978-1-349-16161-4', '10.1093/spp/18.5.319', '10.1186/2041-1480-1-s1-s6', '10.1145/945645.945664', '10.1007/978-3-642-33876-2_35', '10.3115/1654595.1654612', '10.1016/j.jbi.2008.04.010', '10.1007/11595014_22', '10.1007/978-3-642-22630-4_1', '10.3233/sw-2012-0073', '10.3233/sw-130098', '10.1002/asi.20702', '10.1007/978-3-642-33290-6_25', '10.1108/00220410610673873', '10.1016/j.websem.2003.07.007', '10.1007/978-3-642-30284-8_25', '10.1006/ijhc.1995.1081', '10.3233/sw-2012-0045', '', '10.1016/j.joi.2006.08.001', '10.1016/s0306-4573(00)00047-9', '10.1045/september2005-bauer', '10.1016/j.joi.2006.12.001', '10.1007/s11192-005-0007-7', '10.3354/esep005033', '10.1007/s11192-007-2071-2', '10.1007/s11192-008-0220-2', '10.1007/s11192-008-0216-y', '10.1007/s11192-008-0217-x', '10.1007/s11192-006-0176-z', '10.1007/s11192-006-0144-7', '10.1007/s11192-006-0147-4', '10.1007/s11192-006-0142-9', '10.1007/s11192-006-0090-4', '10.1023/a:1016090601710', '10.1186/1742-5581-3-7', '10.1002/asi.20874', '10.1002/asi.20771', '10.1002/asi.20677', '10.1002/asi.20609', '10.1002/asi.20584', '10.1515/libr.2005.170', '10.1002/asi.10192', '10.1016/j.joi.2008.11.001', '10.1073/pnas.0507655102', '10.1016/0020-0271(68)90006-5', '10.1103/physrev.175.2195', '10.1016/0370-2693(68)90255-4', '10.1002/asi.5090140103', '10.1145/321186.321188', '10.1016/0020-0271(71)90008-8', '10.1177/030631277700700112', '10.1177/030631277800800305', '10.1126/science.159.3810.56', '10.1002/1097-4679(197710)33:4<1157::aid-jclp2270330453>3.0.co;2-b', '10.1007/bf02129604', '10.2307/2657504', '10.1037/h0081472', '10.1109/bibmw.2009.5332080', '10.1002/asi.4630360402', '10.1007/bf02458391', '10.1007/bf02458395', '10.1007/bf02458393', '10.1016/j.cub.2007.06.014', '10.1177/016555150102700101', '10.1007/s11192-005-0255-6', '10.1007/s11192-005-0028-2', '10.1023/b:scie.0000027310.68393.bc', '10.1038/468763a', '10.1002/asi.21466', '10.1002/asi.21228', '10.1016/j.joi.2006.10.001', '10.1016/j.ipm.2011.12.001', '10.1371/journal.pone.0021101', '10.1371/journal.pone.0050109', '10.6084/m9.figshare.104629', '10.1038/473285a', '10.1038/489496a', '10.5061/dryad.j1fd7', '10.1021/c160004a011', '10.1002/asi.5090110105', '10.1002/asi.5090140304', '10.1126/science.1212540', '10.1088/1126-6708/2009/09/096', '10.3998/3336451.0011.203', '10.3389/fncom.2012.00019', '10.1087/09531519950145896', '10.5281/zenodo.6759', '10.1016/s0958-1669(97)80118-8', '10.1016/j.bpc.2007.11.004', '10.1016/j.ejps.2005.11.005', '10.1126/science.1121422', '10.1038/nrg1872', '10.1093/bib/bbn043', '10.1093/bib/bbp024', '10.1093/bib/bbp031', '10.1038/nbt1346', '10.1038/nbt1008-1099', '10.1038/nbt1492', '10.1038/nbt0609-508', '10.1038/nrg2414', '10.1093/embo-reports/kvf104', '10.1093/nar/gkn785', '10.1038/89424', '10.1093/bioinformatics/btl534', '10.1038/438548a', '10.1126/science.291.5507.1260', '10.1093/bioinformatics/btp329', '10.1042/bj20020957', '10.1093/protein/10.6.673', '10.1093/nar/gkj120', '10.1016/s0968-0004(99)01382-1', '10.1093/nar/gkl950', '10.1039/b902178g', '10.1126/science.1157784', '10.1126/science.290.5491.471', '10.1371/journal.pbio.0060240', '10.1093/nar/gkn664', '10.1042/bj20081256', '10.1136/bmj.2.5094.502', '10.1002/cfg.359', '10.1016/s0140-6736(00)82040-1', '10.1016/s0140-6736(05)74769-3', '10.1371/journal.pcbi.0020090', '10.1371/journal.pcbi.1000204', '10.1371/journal.pcbi.1000247', '10.1016/s0167-7799(01)01792-9', '15360782', '10.1016/s0097-8485(01)00069-9', '18846079', '10.1038/417119a', '10.1016/s1387-2656(02)08003-1', '10.1186/gb-2005-6-2-r21', '10.1641/0006-3568(2002)052[0937:os]2.0.co;2', '10.1186/1471-2105-8-17', '10.1038/455047a', '10.1016/j.pbi.2004.03.008', '10.1038/75556', '10.1186/1471-2105-10-s6-s19', '10.1087/095315107x243884', '10.1038/npre.2009.3092.1', '10.1038/npre.2009.3495.1', '10.1038/npre.2009.3561.1', '10.1038/418125a', '10.1111/j.1365-313x.2007.03291.x', '16373929', '10.1016/j.febslet.2008.02.053', '10.1016/j.febslet.2008.02.070', '10.1016/j.febslet.2008.02.071', '10.1016/j.febslet.2008.02.072', '10.1016/j.febslet.2008.02.073', '10.1126/science.1135882', '10.1093/nar/gkn317', '10.1016/j.jbi.2010.03.002', '10.1093/nar/gkg095', '10.1093/nar/gkg014', '10.1038/448130b', '10.1087/095315108x254476', '10.1007/s10579-007-9019-7', '10.1016/j.ympev.2006.04.006', '17170276', '10.1038/nbt.1411', '10.1093/bib/bbn044', '10.1016/j.jbi.2008.03.004', '10.1038/447142a', '10.1016/s0140-6736(99)80012-9', '10.1126/science.1093857', '10.1093/bioinformatics/btn534', '10.1038/nature07631', '10.1038/nature07632', '10.1016/j.jbi.2008.12.009', '10.1126/science.314.5806.1682b', '10.1371/journal.pntd.0000154', '10.1007/978-3-540-69828-9_15', '10.1038/490335a', '10.1038/nchem.1751', '10.1038/460787a', '10.1126/science.178.4060.471', '10.1001/jama.288.3.321', '10.1016/s0022-2836(75)80083-0', '14907713', '10.1111/j.1398-9995.1997.tb00175.x', '10.1001/jama.291.14.1701', '10.1046/j.1365-2281.1997.04545.x']\n"
     ]
    }
   ],
   "source": [
    "filename = 'referencesList.txt'\n",
    "\n",
    "# Read lines from the file\n",
    "with open(filename, 'r') as file:\n",
    "    lines = file.readlines()\n",
    "\n",
    "# Create an array from the lines\n",
    "array = [line.strip() for line in lines]\n",
    "\n",
    "# Print the array\n",
    "print(array)\n"
   ]
  },
  {
   "cell_type": "code",
   "execution_count": 33,
   "metadata": {},
   "outputs": [
    {
     "name": "stdout",
     "output_type": "stream",
     "text": [
      "0\n",
      "1\n",
      "2\n",
      "3\n",
      "4\n",
      "5\n",
      "6\n",
      "7\n",
      "8\n",
      "9\n",
      "10\n",
      "11\n",
      "12\n",
      "13\n",
      "14\n",
      "15\n",
      "16\n",
      "17\n",
      "18\n",
      "19\n",
      "20\n",
      "21\n",
      "22\n",
      "23\n",
      "24\n",
      "25\n",
      "Failed to retrieve metadata for DOI 10.5210/fm.v2i4.522. Error: No API operation found at URL '/api/v1/metadata/10.5210/fm.v2i4.522'\n"
     ]
    },
    {
     "ename": "TypeError",
     "evalue": "cannot unpack non-iterable NoneType object",
     "output_type": "error",
     "traceback": [
      "\u001b[1;31m---------------------------------------------------------------------------\u001b[0m",
      "\u001b[1;31mTypeError\u001b[0m                                 Traceback (most recent call last)",
      "Cell \u001b[1;32mIn[33], line 1\u001b[0m\n\u001b[1;32m----> 1\u001b[0m \u001b[43mrun\u001b[49m\u001b[43m(\u001b[49m\u001b[43marray\u001b[49m\u001b[43m)\u001b[49m\n",
      "Cell \u001b[1;32mIn[17], line 7\u001b[0m, in \u001b[0;36mrun\u001b[1;34m(doi_list)\u001b[0m\n\u001b[0;32m      5\u001b[0m \u001b[38;5;28mprint\u001b[39m(i)\n\u001b[0;32m      6\u001b[0m i \u001b[38;5;241m+\u001b[39m\u001b[38;5;241m=\u001b[39m\u001b[38;5;241m1\u001b[39m\n\u001b[1;32m----> 7\u001b[0m record \u001b[38;5;241m=\u001b[39m \u001b[43mcreate_record\u001b[49m\u001b[43m(\u001b[49m\u001b[43mdoi\u001b[49m\u001b[43m)\u001b[49m\n\u001b[0;32m      8\u001b[0m write_record_to_csv(record, \u001b[38;5;124m\"\u001b[39m\u001b[38;5;124mtest.csv\u001b[39m\u001b[38;5;124m\"\u001b[39m)\n",
      "Cell \u001b[1;32mIn[11], line 3\u001b[0m, in \u001b[0;36mcreate_record\u001b[1;34m(doi)\u001b[0m\n\u001b[0;32m      1\u001b[0m \u001b[38;5;28;01mdef\u001b[39;00m \u001b[38;5;21mcreate_record\u001b[39m(doi):\n\u001b[0;32m      2\u001b[0m     DOI \u001b[38;5;241m=\u001b[39m doi\n\u001b[1;32m----> 3\u001b[0m     authors, author_ids \u001b[38;5;241m=\u001b[39m get_author(DOI)\n\u001b[0;32m      4\u001b[0m     references \u001b[38;5;241m=\u001b[39m get_referances(DOI)\n\u001b[0;32m      5\u001b[0m     record \u001b[38;5;241m=\u001b[39m  {\n\u001b[0;32m      6\u001b[0m         \u001b[38;5;124m\"\u001b[39m\u001b[38;5;124mDOI\u001b[39m\u001b[38;5;124m\"\u001b[39m: DOI,\n\u001b[0;32m      7\u001b[0m         \u001b[38;5;124m\"\u001b[39m\u001b[38;5;124mauthors\u001b[39m\u001b[38;5;124m\"\u001b[39m: authors,\n\u001b[0;32m      8\u001b[0m         \u001b[38;5;124m\"\u001b[39m\u001b[38;5;124mauthor_ids\u001b[39m\u001b[38;5;124m\"\u001b[39m: author_ids,\n\u001b[0;32m      9\u001b[0m         \u001b[38;5;124m\"\u001b[39m\u001b[38;5;124mreferences\u001b[39m\u001b[38;5;124m\"\u001b[39m: (references)\n\u001b[0;32m     10\u001b[0m     }\n",
      "\u001b[1;31mTypeError\u001b[0m: cannot unpack non-iterable NoneType object"
     ]
    }
   ],
   "source": [
    "run(array)\n"
   ]
  },
  {
   "cell_type": "code",
   "execution_count": 15,
   "metadata": {},
   "outputs": [],
   "source": [
    "import pandas as pd\n",
    "\n",
    "df = pd.read_csv('test.csv')\n"
   ]
  },
  {
   "cell_type": "code",
   "execution_count": 3,
   "metadata": {},
   "outputs": [
    {
     "name": "stdout",
     "output_type": "stream",
     "text": [
      "                       DOI                                             Author  \\\n",
      "0        10.1136/bmj.b2680                                 ['Greenberg S. A']   \n",
      "1  10.1145/1217821.1226695  ['Casati Fabio', 'Giunchiglia Fausto', 'Marche...   \n",
      "2  10.1145/2362499.2362502  ['Peroni Silvio', 'Shotton David', 'Vitali Fab...   \n",
      "3         10.1136/bmj.a568  ['Davis P. M', 'Lewenstein B. V', 'Simon D. H'...   \n",
      "4  10.1145/2494266.2494271  ['Constantin Alexandru', 'Pettifer Steve', 'Vo...   \n",
      "\n",
      "                                        Author ID  \\\n",
      "0                                          [None]   \n",
      "1                              [None, None, None]   \n",
      "2                              [None, None, None]   \n",
      "3  [None, '0000-0002-1272-372', None, None, None]   \n",
      "4             [None, '0000-0002-1809-5621', None]   \n",
      "\n",
      "                                           Reference  \n",
      "0  7855331; 10.1055/s-2003-41136; 10.1055/s-2002-...  \n",
      "1  10.1093/brain/123.9.1964; 10.1016/s0169-7552(9...  \n",
      "2  10.1371/journal.pcbi.1000361; 10.1145/503124.5...  \n",
      "3  10.1371/journal.pbio.0040157; 10.1136/bmj.329....  \n",
      "4  10.1093/bioinformatics/btq383; 10.1186/1751-04...  \n",
      "                       DOI                                          Reference\n",
      "0        10.1136/bmj.b2680  7855331; 10.1055/s-2003-41136; 10.1055/s-2002-...\n",
      "1  10.1145/1217821.1226695  10.1093/brain/123.9.1964; 10.1016/s0169-7552(9...\n",
      "2  10.1145/2362499.2362502  10.1371/journal.pcbi.1000361; 10.1145/503124.5...\n",
      "3         10.1136/bmj.a568  10.1371/journal.pbio.0040157; 10.1136/bmj.329....\n",
      "4  10.1145/2494266.2494271  10.1093/bioinformatics/btq383; 10.1186/1751-04...\n"
     ]
    }
   ],
   "source": [
    "print(df.head())\n"
   ]
  },
  {
   "cell_type": "code",
   "execution_count": 4,
   "metadata": {},
   "outputs": [
    {
     "name": "stdout",
     "output_type": "stream",
     "text": [
      "                       DOI                                          Reference\n",
      "0        10.1136/bmj.b2680  7855331; 10.1055/s-2003-41136; 10.1055/s-2002-...\n",
      "1  10.1145/1217821.1226695  10.1093/brain/123.9.1964; 10.1016/s0169-7552(9...\n",
      "2  10.1145/2362499.2362502  10.1371/journal.pcbi.1000361; 10.1145/503124.5...\n",
      "3         10.1136/bmj.a568  10.1371/journal.pbio.0040157; 10.1136/bmj.329....\n",
      "4  10.1145/2494266.2494271  10.1093/bioinformatics/btq383; 10.1186/1751-04...\n"
     ]
    }
   ],
   "source": [
    "new_df = df[['DOI', 'Reference']]\n",
    "print(new_df.head())\n"
   ]
  },
  {
   "cell_type": "code",
   "execution_count": 8,
   "metadata": {},
   "outputs": [],
   "source": [
    "new_df.to_csv('new_df.csv', index=False)\n"
   ]
  },
  {
   "cell_type": "code",
   "execution_count": 1,
   "metadata": {},
   "outputs": [
    {
     "name": "stdout",
     "output_type": "stream",
     "text": [
      "[[0 0 0 ... 0 0 0]\n",
      " [0 0 0 ... 0 0 0]\n",
      " [0 0 0 ... 0 0 0]\n",
      " ...\n",
      " [0 0 0 ... 0 0 0]\n",
      " [0 0 0 ... 0 0 0]\n",
      " [0 0 0 ... 0 0 0]]\n"
     ]
    }
   ],
   "source": [
    "import pandas as pd\n",
    "import numpy as np\n",
    "\n",
    "# Read the data into a DataFrame\n",
    "data = pd.read_csv('new_df.csv')\n",
    "\n",
    "# Drop rows with NaN values in 'DOI' or 'Reference' columns\n",
    "data.dropna(subset=['DOI', 'Reference'], inplace=True)\n",
    "\n",
    "# Extract unique DOIs and references\n",
    "unique_dois = set(data['DOI'])\n",
    "all_references = set()\n",
    "for references in data['Reference'].str.split('; '):\n",
    "    all_references.update(references)\n",
    "\n",
    "# Combine DOIs and references to create a set of all unique identifiers\n",
    "unique_identifiers = unique_dois.union(all_references)\n",
    "\n",
    "# Create mapping from identifiers to indices\n",
    "identifier_to_index = {identifier: i for i, identifier in enumerate(unique_identifiers)}\n",
    "index_to_identifier = {i: identifier for identifier, i in identifier_to_index.items()}\n",
    "\n",
    "# Create an adjacency matrix filled with zeros\n",
    "num_identifiers = len(unique_identifiers)\n",
    "adjacency_matrix = np.zeros((num_identifiers, num_identifiers), dtype=int)\n",
    "\n",
    "# Update adjacency matrix based on connections\n",
    "for _, row in data.iterrows():\n",
    "    doi = row['DOI']\n",
    "    references = row['Reference'].split('; ')\n",
    "    doi_index = identifier_to_index[doi]\n",
    "    for ref in references:\n",
    "        ref_index = identifier_to_index[ref]\n",
    "        adjacency_matrix[doi_index, ref_index] = 1\n",
    "\n",
    "# Print or use the adjacency matrix as needed\n",
    "print(adjacency_matrix)\n",
    "# Write the adjacency matrix to a text file\n",
    "np.savetxt('adjacency_matrix.txt', adjacency_matrix, fmt='%d')\n"
   ]
  },
  {
   "cell_type": "code",
   "execution_count": 12,
   "metadata": {},
   "outputs": [],
   "source": [
    "# Write the adjacency matrix to a text file\n",
    "np.savetxt('adjacency_matrix.txt', adjacency_matrix, fmt='%d')\n"
   ]
  },
  {
   "cell_type": "code",
   "execution_count": 14,
   "metadata": {},
   "outputs": [
    {
     "name": "stdout",
     "output_type": "stream",
     "text": [
      "                       DOI                                          Reference\n",
      "0        10.1136/bmj.b2680  7855331; 10.1055/s-2003-41136; 10.1055/s-2002-...\n",
      "1  10.1145/1217821.1226695  10.1093/brain/123.9.1964; 10.1016/s0169-7552(9...\n",
      "2  10.1145/2362499.2362502  10.1371/journal.pcbi.1000361; 10.1145/503124.5...\n"
     ]
    }
   ],
   "source": [
    "df = data.head(3)\n",
    "print(df.head())    "
   ]
  },
  {
   "cell_type": "code",
   "execution_count": 10,
   "metadata": {},
   "outputs": [
    {
     "name": "stdout",
     "output_type": "stream",
     "text": [
      "[[0 0 0 ... 0 0 0]\n",
      " [0 0 0 ... 0 0 0]\n",
      " [0 0 0 ... 0 0 0]\n",
      " ...\n",
      " [0 0 0 ... 0 0 0]\n",
      " [0 0 0 ... 0 0 0]\n",
      " [0 0 0 ... 0 0 0]]\n"
     ]
    }
   ],
   "source": [
    "# Extract unique DOIs and references\n",
    "unique_dois = set(df['DOI'])\n",
    "all_references = set()\n",
    "for references in df['Reference'].str.split('; '):\n",
    "    all_references.update(references)\n",
    "\n",
    "# Combine DOIs and references to create a set of all unique identifiers\n",
    "unique_identifiers = unique_dois.union(all_references)\n",
    "\n",
    "# Create mapping from identifiers to indices\n",
    "identifier_to_index = {identifier: i for i, identifier in enumerate(unique_identifiers)}\n",
    "index_to_identifier = {i: identifier for identifier, i in identifier_to_index.items()}\n",
    "\n",
    "# Create an adjacency matrix filled with zeros\n",
    "num_identifiers = len(unique_identifiers)\n",
    "adjacency_matrix = np.zeros((num_identifiers, num_identifiers), dtype=int)\n",
    "\n",
    "\n",
    "# Update adjacency matrix based on connections\n",
    "for _, row in df.iterrows():\n",
    "    doi = row['DOI']\n",
    "    references = row['Reference'].split('; ')\n",
    "    doi_index = identifier_to_index[doi]\n",
    "    for ref in references:\n",
    "        ref_index = identifier_to_index[ref]\n",
    "        adjacency_matrix[doi_index, ref_index] = 1\n",
    "\n",
    "# Print or use the adjacency matrix as needed\n",
    "print(adjacency_matrix)\n",
    "# Write the adjacency matrix to a text file\n",
    "np.savetxt('adjacency_matrix.txt', adjacency_matrix, fmt='%d')\n"
   ]
  },
  {
   "cell_type": "code",
   "execution_count": 9,
   "metadata": {},
   "outputs": [
    {
     "name": "stdout",
     "output_type": "stream",
     "text": [
      "[[0 0 0 ... 0 0 0]\n",
      " [0 0 0 ... 0 0 0]\n",
      " [0 0 0 ... 0 0 0]\n",
      " ...\n",
      " [0 0 0 ... 0 0 0]\n",
      " [0 0 0 ... 0 0 0]\n",
      " [0 0 0 ... 0 0 0]]\n"
     ]
    }
   ],
   "source": []
  },
  {
   "cell_type": "code",
   "execution_count": 21,
   "metadata": {},
   "outputs": [
    {
     "name": "stdout",
     "output_type": "stream",
     "text": [
      "0    7855331; 10.1055/s-2003-41136; 10.1055/s-2002-...\n",
      "1    10.1093/brain/123.9.1964; 10.1016/s0169-7552(9...\n",
      "2    10.1371/journal.pcbi.1000361; 10.1145/503124.5...\n",
      "Name: Reference, dtype: object\n",
      "0    [7855331, 10.1055/s-2003-41136, 10.1055/s-2002...\n",
      "1    [10.1093/brain/123.9.1964, 10.1016/s0169-7552(...\n",
      "2    [10.1371/journal.pcbi.1000361, 10.1145/503124....\n",
      "Name: Reference, dtype: object\n",
      "0    306\n",
      "1      8\n",
      "2      5\n",
      "Name: Reference, dtype: int64\n"
     ]
    }
   ],
   "source": [
    "import pandas as pd\n",
    "\n",
    "df = pd.read_csv('test.csv')\n",
    "df = df.head(3)\n",
    "\n",
    "print(df['Reference'].head())\n",
    "\n",
    "print(df['Reference'].str.split('; '))\n",
    "print(df['Reference'].str.split('; ').apply(len))"
   ]
  },
  {
   "cell_type": "code",
   "execution_count": 10,
   "metadata": {},
   "outputs": [
    {
     "ename": "AttributeError",
     "evalue": "partially initialized module 'pandas' has no attribute '_pandas_datetime_CAPI' (most likely due to a circular import)",
     "output_type": "error",
     "traceback": [
      "\u001b[1;31m---------------------------------------------------------------------------\u001b[0m",
      "\u001b[1;31mAttributeError\u001b[0m                            Traceback (most recent call last)",
      "Cell \u001b[1;32mIn[10], line 1\u001b[0m\n\u001b[1;32m----> 1\u001b[0m \u001b[38;5;28;01mimport\u001b[39;00m \u001b[38;5;21;01mpandas\u001b[39;00m \u001b[38;5;28;01mas\u001b[39;00m \u001b[38;5;21;01mpd\u001b[39;00m\n\u001b[0;32m      3\u001b[0m \u001b[38;5;66;03m# Read the CSV file\u001b[39;00m\n\u001b[0;32m      4\u001b[0m df \u001b[38;5;241m=\u001b[39m pd\u001b[38;5;241m.\u001b[39mread_csv(\u001b[38;5;124m'\u001b[39m\u001b[38;5;124mtest.csv\u001b[39m\u001b[38;5;124m'\u001b[39m)\n",
      "File \u001b[1;32mc:\\Users\\josh\\AppData\\Local\\Programs\\Python\\Python311\\Lib\\site-packages\\pandas\\__init__.py:59\u001b[0m\n\u001b[0;32m     56\u001b[0m \u001b[38;5;66;03m# let init-time option registration happen\u001b[39;00m\n\u001b[0;32m     57\u001b[0m \u001b[38;5;28;01mimport\u001b[39;00m \u001b[38;5;21;01mpandas\u001b[39;00m\u001b[38;5;21;01m.\u001b[39;00m\u001b[38;5;21;01mcore\u001b[39;00m\u001b[38;5;21;01m.\u001b[39;00m\u001b[38;5;21;01mconfig_init\u001b[39;00m  \u001b[38;5;66;03m# pyright: ignore[reportUnusedImport] # noqa: F401\u001b[39;00m\n\u001b[1;32m---> 59\u001b[0m \u001b[38;5;28;01mfrom\u001b[39;00m \u001b[38;5;21;01mpandas\u001b[39;00m\u001b[38;5;21;01m.\u001b[39;00m\u001b[38;5;21;01mcore\u001b[39;00m\u001b[38;5;21;01m.\u001b[39;00m\u001b[38;5;21;01mapi\u001b[39;00m \u001b[38;5;28;01mimport\u001b[39;00m (\n\u001b[0;32m     60\u001b[0m     \u001b[38;5;66;03m# dtype\u001b[39;00m\n\u001b[0;32m     61\u001b[0m     ArrowDtype,\n\u001b[0;32m     62\u001b[0m     Int8Dtype,\n\u001b[0;32m     63\u001b[0m     Int16Dtype,\n\u001b[0;32m     64\u001b[0m     Int32Dtype,\n\u001b[0;32m     65\u001b[0m     Int64Dtype,\n\u001b[0;32m     66\u001b[0m     UInt8Dtype,\n\u001b[0;32m     67\u001b[0m     UInt16Dtype,\n\u001b[0;32m     68\u001b[0m     UInt32Dtype,\n\u001b[0;32m     69\u001b[0m     UInt64Dtype,\n\u001b[0;32m     70\u001b[0m     Float32Dtype,\n\u001b[0;32m     71\u001b[0m     Float64Dtype,\n\u001b[0;32m     72\u001b[0m     CategoricalDtype,\n\u001b[0;32m     73\u001b[0m     PeriodDtype,\n\u001b[0;32m     74\u001b[0m     IntervalDtype,\n\u001b[0;32m     75\u001b[0m     DatetimeTZDtype,\n\u001b[0;32m     76\u001b[0m     StringDtype,\n\u001b[0;32m     77\u001b[0m     BooleanDtype,\n\u001b[0;32m     78\u001b[0m     \u001b[38;5;66;03m# missing\u001b[39;00m\n\u001b[0;32m     79\u001b[0m     NA,\n\u001b[0;32m     80\u001b[0m     isna,\n\u001b[0;32m     81\u001b[0m     isnull,\n\u001b[0;32m     82\u001b[0m     notna,\n\u001b[0;32m     83\u001b[0m     notnull,\n\u001b[0;32m     84\u001b[0m     \u001b[38;5;66;03m# indexes\u001b[39;00m\n\u001b[0;32m     85\u001b[0m     Index,\n\u001b[0;32m     86\u001b[0m     CategoricalIndex,\n\u001b[0;32m     87\u001b[0m     RangeIndex,\n\u001b[0;32m     88\u001b[0m     MultiIndex,\n\u001b[0;32m     89\u001b[0m     IntervalIndex,\n\u001b[0;32m     90\u001b[0m     TimedeltaIndex,\n\u001b[0;32m     91\u001b[0m     DatetimeIndex,\n\u001b[0;32m     92\u001b[0m     PeriodIndex,\n\u001b[0;32m     93\u001b[0m     IndexSlice,\n\u001b[0;32m     94\u001b[0m     \u001b[38;5;66;03m# tseries\u001b[39;00m\n\u001b[0;32m     95\u001b[0m     NaT,\n\u001b[0;32m     96\u001b[0m     Period,\n\u001b[0;32m     97\u001b[0m     period_range,\n\u001b[0;32m     98\u001b[0m     Timedelta,\n\u001b[0;32m     99\u001b[0m     timedelta_range,\n\u001b[0;32m    100\u001b[0m     Timestamp,\n\u001b[0;32m    101\u001b[0m     date_range,\n\u001b[0;32m    102\u001b[0m     bdate_range,\n\u001b[0;32m    103\u001b[0m     Interval,\n\u001b[0;32m    104\u001b[0m     interval_range,\n\u001b[0;32m    105\u001b[0m     DateOffset,\n\u001b[0;32m    106\u001b[0m     \u001b[38;5;66;03m# conversion\u001b[39;00m\n\u001b[0;32m    107\u001b[0m     to_numeric,\n\u001b[0;32m    108\u001b[0m     to_datetime,\n\u001b[0;32m    109\u001b[0m     to_timedelta,\n\u001b[0;32m    110\u001b[0m     \u001b[38;5;66;03m# misc\u001b[39;00m\n\u001b[0;32m    111\u001b[0m     Flags,\n\u001b[0;32m    112\u001b[0m     Grouper,\n\u001b[0;32m    113\u001b[0m     factorize,\n\u001b[0;32m    114\u001b[0m     unique,\n\u001b[0;32m    115\u001b[0m     value_counts,\n\u001b[0;32m    116\u001b[0m     NamedAgg,\n\u001b[0;32m    117\u001b[0m     array,\n\u001b[0;32m    118\u001b[0m     Categorical,\n\u001b[0;32m    119\u001b[0m     set_eng_float_format,\n\u001b[0;32m    120\u001b[0m     Series,\n\u001b[0;32m    121\u001b[0m     DataFrame,\n\u001b[0;32m    122\u001b[0m )\n\u001b[0;32m    124\u001b[0m \u001b[38;5;28;01mfrom\u001b[39;00m \u001b[38;5;21;01mpandas\u001b[39;00m\u001b[38;5;21;01m.\u001b[39;00m\u001b[38;5;21;01mcore\u001b[39;00m\u001b[38;5;21;01m.\u001b[39;00m\u001b[38;5;21;01mdtypes\u001b[39;00m\u001b[38;5;21;01m.\u001b[39;00m\u001b[38;5;21;01mdtypes\u001b[39;00m \u001b[38;5;28;01mimport\u001b[39;00m SparseDtype\n\u001b[0;32m    126\u001b[0m \u001b[38;5;28;01mfrom\u001b[39;00m \u001b[38;5;21;01mpandas\u001b[39;00m\u001b[38;5;21;01m.\u001b[39;00m\u001b[38;5;21;01mtseries\u001b[39;00m\u001b[38;5;21;01m.\u001b[39;00m\u001b[38;5;21;01mapi\u001b[39;00m \u001b[38;5;28;01mimport\u001b[39;00m infer_freq\n",
      "File \u001b[1;32mc:\\Users\\josh\\AppData\\Local\\Programs\\Python\\Python311\\Lib\\site-packages\\pandas\\core\\api.py:1\u001b[0m\n\u001b[1;32m----> 1\u001b[0m \u001b[38;5;28;01mfrom\u001b[39;00m \u001b[38;5;21;01mpandas\u001b[39;00m\u001b[38;5;21;01m.\u001b[39;00m\u001b[38;5;21;01m_libs\u001b[39;00m \u001b[38;5;28;01mimport\u001b[39;00m (\n\u001b[0;32m      2\u001b[0m     NaT,\n\u001b[0;32m      3\u001b[0m     Period,\n\u001b[0;32m      4\u001b[0m     Timedelta,\n\u001b[0;32m      5\u001b[0m     Timestamp,\n\u001b[0;32m      6\u001b[0m )\n\u001b[0;32m      7\u001b[0m \u001b[38;5;28;01mfrom\u001b[39;00m \u001b[38;5;21;01mpandas\u001b[39;00m\u001b[38;5;21;01m.\u001b[39;00m\u001b[38;5;21;01m_libs\u001b[39;00m\u001b[38;5;21;01m.\u001b[39;00m\u001b[38;5;21;01mmissing\u001b[39;00m \u001b[38;5;28;01mimport\u001b[39;00m NA\n\u001b[0;32m      9\u001b[0m \u001b[38;5;28;01mfrom\u001b[39;00m \u001b[38;5;21;01mpandas\u001b[39;00m\u001b[38;5;21;01m.\u001b[39;00m\u001b[38;5;21;01mcore\u001b[39;00m\u001b[38;5;21;01m.\u001b[39;00m\u001b[38;5;21;01mdtypes\u001b[39;00m\u001b[38;5;21;01m.\u001b[39;00m\u001b[38;5;21;01mdtypes\u001b[39;00m \u001b[38;5;28;01mimport\u001b[39;00m (\n\u001b[0;32m     10\u001b[0m     ArrowDtype,\n\u001b[0;32m     11\u001b[0m     CategoricalDtype,\n\u001b[1;32m   (...)\u001b[0m\n\u001b[0;32m     14\u001b[0m     PeriodDtype,\n\u001b[0;32m     15\u001b[0m )\n",
      "File \u001b[1;32mc:\\Users\\josh\\AppData\\Local\\Programs\\Python\\Python311\\Lib\\site-packages\\pandas\\_libs\\__init__.py:18\u001b[0m\n\u001b[0;32m     16\u001b[0m \u001b[38;5;28;01mimport\u001b[39;00m \u001b[38;5;21;01mpandas\u001b[39;00m\u001b[38;5;21;01m.\u001b[39;00m\u001b[38;5;21;01m_libs\u001b[39;00m\u001b[38;5;21;01m.\u001b[39;00m\u001b[38;5;21;01mpandas_parser\u001b[39;00m  \u001b[38;5;66;03m# noqa: E501 # isort: skip # type: ignore[reportUnusedImport]\u001b[39;00m\n\u001b[0;32m     17\u001b[0m \u001b[38;5;28;01mimport\u001b[39;00m \u001b[38;5;21;01mpandas\u001b[39;00m\u001b[38;5;21;01m.\u001b[39;00m\u001b[38;5;21;01m_libs\u001b[39;00m\u001b[38;5;21;01m.\u001b[39;00m\u001b[38;5;21;01mpandas_datetime\u001b[39;00m  \u001b[38;5;66;03m# noqa: F401,E501 # isort: skip # type: ignore[reportUnusedImport]\u001b[39;00m\n\u001b[1;32m---> 18\u001b[0m \u001b[38;5;28;01mfrom\u001b[39;00m \u001b[38;5;21;01mpandas\u001b[39;00m\u001b[38;5;21;01m.\u001b[39;00m\u001b[38;5;21;01m_libs\u001b[39;00m\u001b[38;5;21;01m.\u001b[39;00m\u001b[38;5;21;01minterval\u001b[39;00m \u001b[38;5;28;01mimport\u001b[39;00m Interval\n\u001b[0;32m     19\u001b[0m \u001b[38;5;28;01mfrom\u001b[39;00m \u001b[38;5;21;01mpandas\u001b[39;00m\u001b[38;5;21;01m.\u001b[39;00m\u001b[38;5;21;01m_libs\u001b[39;00m\u001b[38;5;21;01m.\u001b[39;00m\u001b[38;5;21;01mtslibs\u001b[39;00m \u001b[38;5;28;01mimport\u001b[39;00m (\n\u001b[0;32m     20\u001b[0m     NaT,\n\u001b[0;32m     21\u001b[0m     NaTType,\n\u001b[1;32m   (...)\u001b[0m\n\u001b[0;32m     26\u001b[0m     iNaT,\n\u001b[0;32m     27\u001b[0m )\n",
      "File \u001b[1;32minterval.pyx:1\u001b[0m, in \u001b[0;36minit pandas._libs.interval\u001b[1;34m()\u001b[0m\n",
      "File \u001b[1;32mhashtable.pyx:1\u001b[0m, in \u001b[0;36minit pandas._libs.hashtable\u001b[1;34m()\u001b[0m\n",
      "File \u001b[1;32mmissing.pyx:42\u001b[0m, in \u001b[0;36minit pandas._libs.missing\u001b[1;34m()\u001b[0m\n",
      "\u001b[1;31mAttributeError\u001b[0m: partially initialized module 'pandas' has no attribute '_pandas_datetime_CAPI' (most likely due to a circular import)"
     ]
    }
   ],
   "source": [
    "import pandas as pd\n",
    "\n",
    "# Read the CSV file\n",
    "df = pd.read_csv('test.csv')\n",
    "\n",
    "# Handle NaN values in the 'Reference' column\n",
    "df['Reference'] = df['Reference'].fillna('')  # Replace NaN with an empty string\n",
    "\n",
    "# Split the 'Reference' column by '; ' and limit to the first 3 references\n",
    "df['Reference'] = df['Reference'].str.split('; ').apply(lambda x: '; '.join(x[:25]))\n",
    "\n",
    "print(df)\n"
   ]
  },
  {
   "cell_type": "code",
   "execution_count": 65,
   "metadata": {},
   "outputs": [
    {
     "name": "stdout",
     "output_type": "stream",
     "text": [
      "379\n"
     ]
    }
   ],
   "source": [
    "\n",
    "df = df.head(3)\n",
    "\n",
    "print(df.__len__())\n"
   ]
  },
  {
   "cell_type": "code",
   "execution_count": 66,
   "metadata": {},
   "outputs": [
    {
     "name": "stdout",
     "output_type": "stream",
     "text": [
      "[[0 0 0 ... 0 0 0]\n",
      " [0 0 0 ... 0 0 0]\n",
      " [0 0 0 ... 0 0 0]\n",
      " ...\n",
      " [0 0 0 ... 0 0 0]\n",
      " [0 0 0 ... 0 0 0]\n",
      " [0 0 0 ... 0 0 0]]\n"
     ]
    }
   ],
   "source": [
    "# Extract unique DOIs and references\n",
    "unique_dois = set(df['DOI'])\n",
    "all_references = set()\n",
    "for references in df['Reference'].str.split('; '):\n",
    "    all_references.update(references)\n",
    "\n",
    "# Combine DOIs and references to create a set of all unique identifiers\n",
    "unique_identifiers = unique_dois.union(all_references)\n",
    "\n",
    "# Create mapping from identifiers to indices\n",
    "identifier_to_index = {identifier: i for i, identifier in enumerate(unique_identifiers)}\n",
    "index_to_identifier = {i: identifier for identifier, i in identifier_to_index.items()}\n",
    "\n",
    "# Create an adjacency matrix filled with zeros\n",
    "num_identifiers = len(unique_identifiers)\n",
    "adjacency_matrix = np.zeros((num_identifiers, num_identifiers), dtype=int)\n",
    "\n",
    "\n",
    "# Update adjacency matrix based on connections\n",
    "for _, row in df.iterrows():\n",
    "    doi = row['DOI']\n",
    "    references = row['Reference'].split('; ')\n",
    "    doi_index = identifier_to_index[doi]\n",
    "    for ref in references:\n",
    "        ref_index = identifier_to_index[ref]\n",
    "        adjacency_matrix[doi_index, ref_index] = 1\n",
    "\n",
    "# Print or use the adjacency matrix as needed\n",
    "print(adjacency_matrix)\n",
    "# Write the adjacency matrix to a text file\n",
    "np.savetxt('adjacency_matrix.txt', adjacency_matrix, fmt='%d')\n"
   ]
  },
  {
   "cell_type": "code",
   "execution_count": 67,
   "metadata": {},
   "outputs": [
    {
     "data": {
      "image/png": "[encoded data removed]",
      "text/plain": [
       "<Figure size 640x480 with 1 Axes>"
      ]
     },
     "metadata": {},
     "output_type": "display_data"
    }
   ],
   "source": [
    "import networkx as nx\n",
    "import matplotlib.pyplot as plt\n",
    "import numpy as np\n",
    "\n",
    "# Load the adjacency matrix from the text file\n",
    "adjacency_matrix = np.loadtxt('adjacency_matrix.txt', dtype=int)\n",
    "\n",
    "# Create a directed graph\n",
    "graph = nx.DiGraph()\n",
    "\n",
    "# Add nodes to the graph\n",
    "num_nodes = adjacency_matrix.shape[0]\n",
    "graph.add_nodes_from(range(num_nodes))\n",
    "\n",
    "# Add edges to the graph based on the adjacency matrix\n",
    "for i in range(num_nodes):\n",
    "    for j in range(num_nodes):\n",
    "        if adjacency_matrix[i][j] == 1:\n",
    "            graph.add_edge(i, j)\n",
    "\n",
    "# Draw the graph\n",
    "pos = nx.spring_layout(graph)\n",
    "nx.draw(graph, pos, with_labels=False, node_color='lightblue', edge_color='gray', arrows=True)\n",
    "plt.show()\n",
    "\n"
   ]
  },
  {
   "cell_type": "code",
   "execution_count": 9,
   "metadata": {},
   "outputs": [
    {
     "ename": "AttributeError",
     "evalue": "partially initialized module 'pandas' has no attribute '_pandas_datetime_CAPI' (most likely due to a circular import)",
     "output_type": "error",
     "traceback": [
      "\u001b[1;31m---------------------------------------------------------------------------\u001b[0m",
      "\u001b[1;31mAttributeError\u001b[0m                            Traceback (most recent call last)",
      "Cell \u001b[1;32mIn[9], line 1\u001b[0m\n\u001b[1;32m----> 1\u001b[0m \u001b[38;5;28;01mimport\u001b[39;00m \u001b[38;5;21;01mpandas\u001b[39;00m \u001b[38;5;28;01mas\u001b[39;00m \u001b[38;5;21;01mpd\u001b[39;00m\n",
      "File \u001b[1;32mc:\\Users\\josh\\AppData\\Local\\Programs\\Python\\Python311\\Lib\\site-packages\\pandas\\__init__.py:59\u001b[0m\n\u001b[0;32m     56\u001b[0m \u001b[38;5;66;03m# let init-time option registration happen\u001b[39;00m\n\u001b[0;32m     57\u001b[0m \u001b[38;5;28;01mimport\u001b[39;00m \u001b[38;5;21;01mpandas\u001b[39;00m\u001b[38;5;21;01m.\u001b[39;00m\u001b[38;5;21;01mcore\u001b[39;00m\u001b[38;5;21;01m.\u001b[39;00m\u001b[38;5;21;01mconfig_init\u001b[39;00m  \u001b[38;5;66;03m# pyright: ignore[reportUnusedImport] # noqa: F401\u001b[39;00m\n\u001b[1;32m---> 59\u001b[0m \u001b[38;5;28;01mfrom\u001b[39;00m \u001b[38;5;21;01mpandas\u001b[39;00m\u001b[38;5;21;01m.\u001b[39;00m\u001b[38;5;21;01mcore\u001b[39;00m\u001b[38;5;21;01m.\u001b[39;00m\u001b[38;5;21;01mapi\u001b[39;00m \u001b[38;5;28;01mimport\u001b[39;00m (\n\u001b[0;32m     60\u001b[0m     \u001b[38;5;66;03m# dtype\u001b[39;00m\n\u001b[0;32m     61\u001b[0m     ArrowDtype,\n\u001b[0;32m     62\u001b[0m     Int8Dtype,\n\u001b[0;32m     63\u001b[0m     Int16Dtype,\n\u001b[0;32m     64\u001b[0m     Int32Dtype,\n\u001b[0;32m     65\u001b[0m     Int64Dtype,\n\u001b[0;32m     66\u001b[0m     UInt8Dtype,\n\u001b[0;32m     67\u001b[0m     UInt16Dtype,\n\u001b[0;32m     68\u001b[0m     UInt32Dtype,\n\u001b[0;32m     69\u001b[0m     UInt64Dtype,\n\u001b[0;32m     70\u001b[0m     Float32Dtype,\n\u001b[0;32m     71\u001b[0m     Float64Dtype,\n\u001b[0;32m     72\u001b[0m     CategoricalDtype,\n\u001b[0;32m     73\u001b[0m     PeriodDtype,\n\u001b[0;32m     74\u001b[0m     IntervalDtype,\n\u001b[0;32m     75\u001b[0m     DatetimeTZDtype,\n\u001b[0;32m     76\u001b[0m     StringDtype,\n\u001b[0;32m     77\u001b[0m     BooleanDtype,\n\u001b[0;32m     78\u001b[0m     \u001b[38;5;66;03m# missing\u001b[39;00m\n\u001b[0;32m     79\u001b[0m     NA,\n\u001b[0;32m     80\u001b[0m     isna,\n\u001b[0;32m     81\u001b[0m     isnull,\n\u001b[0;32m     82\u001b[0m     notna,\n\u001b[0;32m     83\u001b[0m     notnull,\n\u001b[0;32m     84\u001b[0m     \u001b[38;5;66;03m# indexes\u001b[39;00m\n\u001b[0;32m     85\u001b[0m     Index,\n\u001b[0;32m     86\u001b[0m     CategoricalIndex,\n\u001b[0;32m     87\u001b[0m     RangeIndex,\n\u001b[0;32m     88\u001b[0m     MultiIndex,\n\u001b[0;32m     89\u001b[0m     IntervalIndex,\n\u001b[0;32m     90\u001b[0m     TimedeltaIndex,\n\u001b[0;32m     91\u001b[0m     DatetimeIndex,\n\u001b[0;32m     92\u001b[0m     PeriodIndex,\n\u001b[0;32m     93\u001b[0m     IndexSlice,\n\u001b[0;32m     94\u001b[0m     \u001b[38;5;66;03m# tseries\u001b[39;00m\n\u001b[0;32m     95\u001b[0m     NaT,\n\u001b[0;32m     96\u001b[0m     Period,\n\u001b[0;32m     97\u001b[0m     period_range,\n\u001b[0;32m     98\u001b[0m     Timedelta,\n\u001b[0;32m     99\u001b[0m     timedelta_range,\n\u001b[0;32m    100\u001b[0m     Timestamp,\n\u001b[0;32m    101\u001b[0m     date_range,\n\u001b[0;32m    102\u001b[0m     bdate_range,\n\u001b[0;32m    103\u001b[0m     Interval,\n\u001b[0;32m    104\u001b[0m     interval_range,\n\u001b[0;32m    105\u001b[0m     DateOffset,\n\u001b[0;32m    106\u001b[0m     \u001b[38;5;66;03m# conversion\u001b[39;00m\n\u001b[0;32m    107\u001b[0m     to_numeric,\n\u001b[0;32m    108\u001b[0m     to_datetime,\n\u001b[0;32m    109\u001b[0m     to_timedelta,\n\u001b[0;32m    110\u001b[0m     \u001b[38;5;66;03m# misc\u001b[39;00m\n\u001b[0;32m    111\u001b[0m     Flags,\n\u001b[0;32m    112\u001b[0m     Grouper,\n\u001b[0;32m    113\u001b[0m     factorize,\n\u001b[0;32m    114\u001b[0m     unique,\n\u001b[0;32m    115\u001b[0m     value_counts,\n\u001b[0;32m    116\u001b[0m     NamedAgg,\n\u001b[0;32m    117\u001b[0m     array,\n\u001b[0;32m    118\u001b[0m     Categorical,\n\u001b[0;32m    119\u001b[0m     set_eng_float_format,\n\u001b[0;32m    120\u001b[0m     Series,\n\u001b[0;32m    121\u001b[0m     DataFrame,\n\u001b[0;32m    122\u001b[0m )\n\u001b[0;32m    124\u001b[0m \u001b[38;5;28;01mfrom\u001b[39;00m \u001b[38;5;21;01mpandas\u001b[39;00m\u001b[38;5;21;01m.\u001b[39;00m\u001b[38;5;21;01mcore\u001b[39;00m\u001b[38;5;21;01m.\u001b[39;00m\u001b[38;5;21;01mdtypes\u001b[39;00m\u001b[38;5;21;01m.\u001b[39;00m\u001b[38;5;21;01mdtypes\u001b[39;00m \u001b[38;5;28;01mimport\u001b[39;00m SparseDtype\n\u001b[0;32m    126\u001b[0m \u001b[38;5;28;01mfrom\u001b[39;00m \u001b[38;5;21;01mpandas\u001b[39;00m\u001b[38;5;21;01m.\u001b[39;00m\u001b[38;5;21;01mtseries\u001b[39;00m\u001b[38;5;21;01m.\u001b[39;00m\u001b[38;5;21;01mapi\u001b[39;00m \u001b[38;5;28;01mimport\u001b[39;00m infer_freq\n",
      "File \u001b[1;32mc:\\Users\\josh\\AppData\\Local\\Programs\\Python\\Python311\\Lib\\site-packages\\pandas\\core\\api.py:1\u001b[0m\n\u001b[1;32m----> 1\u001b[0m \u001b[38;5;28;01mfrom\u001b[39;00m \u001b[38;5;21;01mpandas\u001b[39;00m\u001b[38;5;21;01m.\u001b[39;00m\u001b[38;5;21;01m_libs\u001b[39;00m \u001b[38;5;28;01mimport\u001b[39;00m (\n\u001b[0;32m      2\u001b[0m     NaT,\n\u001b[0;32m      3\u001b[0m     Period,\n\u001b[0;32m      4\u001b[0m     Timedelta,\n\u001b[0;32m      5\u001b[0m     Timestamp,\n\u001b[0;32m      6\u001b[0m )\n\u001b[0;32m      7\u001b[0m \u001b[38;5;28;01mfrom\u001b[39;00m \u001b[38;5;21;01mpandas\u001b[39;00m\u001b[38;5;21;01m.\u001b[39;00m\u001b[38;5;21;01m_libs\u001b[39;00m\u001b[38;5;21;01m.\u001b[39;00m\u001b[38;5;21;01mmissing\u001b[39;00m \u001b[38;5;28;01mimport\u001b[39;00m NA\n\u001b[0;32m      9\u001b[0m \u001b[38;5;28;01mfrom\u001b[39;00m \u001b[38;5;21;01mpandas\u001b[39;00m\u001b[38;5;21;01m.\u001b[39;00m\u001b[38;5;21;01mcore\u001b[39;00m\u001b[38;5;21;01m.\u001b[39;00m\u001b[38;5;21;01mdtypes\u001b[39;00m\u001b[38;5;21;01m.\u001b[39;00m\u001b[38;5;21;01mdtypes\u001b[39;00m \u001b[38;5;28;01mimport\u001b[39;00m (\n\u001b[0;32m     10\u001b[0m     ArrowDtype,\n\u001b[0;32m     11\u001b[0m     CategoricalDtype,\n\u001b[1;32m   (...)\u001b[0m\n\u001b[0;32m     14\u001b[0m     PeriodDtype,\n\u001b[0;32m     15\u001b[0m )\n",
      "File \u001b[1;32mc:\\Users\\josh\\AppData\\Local\\Programs\\Python\\Python311\\Lib\\site-packages\\pandas\\_libs\\__init__.py:18\u001b[0m\n\u001b[0;32m     16\u001b[0m \u001b[38;5;28;01mimport\u001b[39;00m \u001b[38;5;21;01mpandas\u001b[39;00m\u001b[38;5;21;01m.\u001b[39;00m\u001b[38;5;21;01m_libs\u001b[39;00m\u001b[38;5;21;01m.\u001b[39;00m\u001b[38;5;21;01mpandas_parser\u001b[39;00m  \u001b[38;5;66;03m# noqa: E501 # isort: skip # type: ignore[reportUnusedImport]\u001b[39;00m\n\u001b[0;32m     17\u001b[0m \u001b[38;5;28;01mimport\u001b[39;00m \u001b[38;5;21;01mpandas\u001b[39;00m\u001b[38;5;21;01m.\u001b[39;00m\u001b[38;5;21;01m_libs\u001b[39;00m\u001b[38;5;21;01m.\u001b[39;00m\u001b[38;5;21;01mpandas_datetime\u001b[39;00m  \u001b[38;5;66;03m# noqa: F401,E501 # isort: skip # type: ignore[reportUnusedImport]\u001b[39;00m\n\u001b[1;32m---> 18\u001b[0m \u001b[38;5;28;01mfrom\u001b[39;00m \u001b[38;5;21;01mpandas\u001b[39;00m\u001b[38;5;21;01m.\u001b[39;00m\u001b[38;5;21;01m_libs\u001b[39;00m\u001b[38;5;21;01m.\u001b[39;00m\u001b[38;5;21;01minterval\u001b[39;00m \u001b[38;5;28;01mimport\u001b[39;00m Interval\n\u001b[0;32m     19\u001b[0m \u001b[38;5;28;01mfrom\u001b[39;00m \u001b[38;5;21;01mpandas\u001b[39;00m\u001b[38;5;21;01m.\u001b[39;00m\u001b[38;5;21;01m_libs\u001b[39;00m\u001b[38;5;21;01m.\u001b[39;00m\u001b[38;5;21;01mtslibs\u001b[39;00m \u001b[38;5;28;01mimport\u001b[39;00m (\n\u001b[0;32m     20\u001b[0m     NaT,\n\u001b[0;32m     21\u001b[0m     NaTType,\n\u001b[1;32m   (...)\u001b[0m\n\u001b[0;32m     26\u001b[0m     iNaT,\n\u001b[0;32m     27\u001b[0m )\n",
      "File \u001b[1;32minterval.pyx:1\u001b[0m, in \u001b[0;36minit pandas._libs.interval\u001b[1;34m()\u001b[0m\n",
      "File \u001b[1;32mhashtable.pyx:1\u001b[0m, in \u001b[0;36minit pandas._libs.hashtable\u001b[1;34m()\u001b[0m\n",
      "File \u001b[1;32mmissing.pyx:42\u001b[0m, in \u001b[0;36minit pandas._libs.missing\u001b[1;34m()\u001b[0m\n",
      "\u001b[1;31mAttributeError\u001b[0m: partially initialized module 'pandas' has no attribute '_pandas_datetime_CAPI' (most likely due to a circular import)"
     ]
    }
   ],
   "source": []
  },
  {
   "cell_type": "code",
   "execution_count": 1,
   "metadata": {},
   "outputs": [],
   "source": [
    "\n",
    "URI = \"NEO4J_URI=neo4j+s://3f3ab051.databases.neo4j.io\"\n",
    "NEO4J_USERNAME = \"neo4j\"\n",
    "NEO4J_PASSWORD = \"o8vcXWgBEyvLvmQ2AckVL2r3HVWNPZO-k3ZCUvowsrM\"\n",
    "\n",
    "AURA_INSTANCEID = \"3f3ab051\"\n",
    "AURA_INSTANCENAME = \"Instance01\"\n",
    "\n",
    "AUTH = (NEO4J_USERNAME, NEO4J_PASSWORD)\n"
   ]
  }
 ],
 "metadata": {
  "kernelspec": {
   "display_name": "Python 3",
   "language": "python",
   "name": "python3"
  },
  "language_info": {
   "codemirror_mode": {
    "name": "ipython",
    "version": 3
   },
   "file_extension": ".py",
   "mimetype": "text/x-python",
   "name": "python",
   "nbconvert_exporter": "python",
   "pygments_lexer": "ipython3",
   "version": "3.11.6"
  }
 },
 "nbformat": 4,
 "nbformat_minor": 2
}

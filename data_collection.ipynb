{
 "cells": [
  {
   "cell_type": "code",
   "execution_count": 2,
   "metadata": {},
   "outputs": [],
   "source": [
    "ACCESS_TOKEN = \"94762995-8420-4272-a366-8b7aad4c40f8\"\n",
    "\n"
   ]
  },
  {
   "cell_type": "code",
   "execution_count": 4,
   "metadata": {},
   "outputs": [
    {
     "name": "stdout",
     "output_type": "stream",
     "text": [
      "[{'issue': '2', 'reference': '10.1136/bmj.b2680; 10.1145/1217821.1226695; 10.1145/2362499.2362502; 10.1136/bmj.a568; 10.1145/2494266.2494271; 10.1523/jneurosci.0003-08.2008; 10.1007/978-3-319-03524-6_29; 10.1073/pnas.0407743101; 10.1007/bf02457980; 10.1016/j.websem.2012.08.001; 10.1016/j.websem.2013.05.001; 10.1002/(sici)1097-4571(198909)40:5<342::aid-asi7>3.0.co;2-u; 10.1007/s11192-009-0021-2; 10.1002/asi.4630240406; 10.1145/1816123.1816198; 10.1108/jd-07-2012-0082; 10.1038/493159a; 10.1126/science.149.3683.510; 10.1038/495437a; 10.1042/bj20091474; 10.1371/journal.pcbi.1000361; 10.1101/sqb.1972.036.01.015; 10.1038/502295a; 10.1038/502298a; 10.1001/jama.295.1.90; 10.5210/fm.v2i4.522; 10.1525/bio.2010.60.5.2; 10.1177/030631277500500106; 10.5860/crln.73.10.8846; 10.1007/s10579-012-9211-2; 10.1087/2009202; 10.1038/nature28042; 10.1177/030631277400400102; 10.7717/peerj.175; 10.1371/journal.pone.0000308; 10.5539/ass.v9n5p18; 10.1371/journal.pcbi.0010034; 10.1371/journal.pntd.0000228; 10.1007/978-3-540-89704-0_17; 10.3115/1610075.1610091; 10.1007/978-3-642-41242-4_6; 10.1145/1498765.1498780; 10.1108/eum0000000007123; 10.1023/a:1021919228368', 'citation': '10.1057/s41275-017-0070-x; 10.1016/j.techsoc.2018.03.005; 10.1007/978-3-319-73165-0_24; 10.1007/978-3-030-00668-6_21; 10.1007/978-3-319-17966-7_10; 10.1007/978-3-319-90548-8_7; 10.1007/978-3-030-01379-0_9; 10.59350/zcrhs-r7h02; 10.1101/108480; 10.7554/elife.32822; 10.1145/3197026.3197050; 10.3233/sw-160224; 10.3233/sw-180307; 10.3233/ds-190016; 10.3233/ds-190019; 10.7717/peerj-cs.421; 10.3346/jkms.2015.30.11.1545; 10.1007/978-3-030-30796-7_8; 10.1007/978-3-030-30796-7_31; 10.1093/bib/bbx057; 10.1371/journal.pone.0238801; 10.1177/0961000615616450; 10.1142/s021964921850034x; 10.3390/app12063203; 10.1007/978-3-319-58694-6_23; 10.1162/qss_a_00183; 10.1186/s12859-019-2607-x; 10.2139/ssrn.3081354; 10.35668/2520-6524-2019-4-10; 10.59350/kgz48-bt453; 10.59350/8pkca-5dx66; 10.1007/978-3-319-68204-4_19; 10.1007/978-3-030-61244-3_16; 10.1109/mcse.2019.2952840', 'page': '253-277', 'doi': '10.1108/jd-12-2013-0166', 'citation_count': '34', 'volume': '71', 'author': 'Peroni, Silvio, 0000-0003-0530-4305; Dutton, Alexander, 0000-0003-1448-3114; Gray, Tanya; Shotton, David', 'year': '2015-03-09', 'oa_link': '', 'source_title': 'Journal Of Documentation', 'source_id': 'issn:0022-0418', 'title': 'Setting Our Bibliographic References Free: Towards Open Citation Data'}]\n"
     ]
    }
   ],
   "source": [
    "from requests import get\n",
    "\n",
    "API_CALL = \"https://opencitations.net/api/v1/metadata/10.1108/jd-12-2013-0166\"\n",
    "HTTP_HEADERS = {\"authorization\": \"94762995-8420-4272-a366-8b7aad4c40f8\"}\n",
    "\n",
    "get(API_CALL, headers=HTTP_HEADERS)\n",
    "print(get(API_CALL, headers=HTTP_HEADERS).json())"
   ]
  },
  {
   "cell_type": "code",
   "execution_count": 5,
   "metadata": {},
   "outputs": [
    {
     "name": "stdout",
     "output_type": "stream",
     "text": [
      "Authors: Heibi, Ivan, 0000-0001-5366-5194; Peroni, Silvio, 0000-0003-0530-4305; Shotton, D M, 0000-0001-5506-523\n",
      "Title: Software Review: COCI, The OpenCitations Index Of Crossref Open DOI-to-DOI Citations\n",
      "References: 10.6084/m9.figshare.7873559; 10.3233/sw-150197; 10.4103/0976-500x.85940; 10.59350/zcrhs-r7h02; 10.1007/978-3-319-17966-7_10; 10.1007/s11192-009-0146-3; 10.1007/978-3-030-00668-6_8; 10.1007/978-3-319-53637-8_6; 10.6084/m9.figshare.7127816; 10.1016/j.websem.2012.08.001; 10.1007/978-3-319-11955-7_42; 10.1007/978-3-319-11964-9_4; 10.6084/m9.figshare.3443876; 10.1007/978-3-319-68204-4_19; 10.1007/978-3-319-46547-0_16; 10.7717/peerj.4201; 10.3233/ds-190016; 10.1038/nature.2017.21800; 10.1038/sdata.2016.18; 10.6084/m9.figshare.6683855\n"
     ]
    }
   ],
   "source": [
    "import requests\n",
    "\n",
    "# Define the base URL of the OpenCitations API\n",
    "base_url = \"https://opencitations.net/index/api/v1\"\n",
    "\n",
    "# Function to retrieve metadata for a DOI\n",
    "def get_metadata(doi):\n",
    "    # Endpoint for retrieving metadata\n",
    "    endpoint = f\"{base_url}/metadata/{doi}\"\n",
    "\n",
    "    # Make a GET request to the endpoint\n",
    "    response = requests.get(endpoint)\n",
    "\n",
    "    # Check if the request was successful (status code 200)\n",
    "    if response.status_code == 200:\n",
    "        # Parse the JSON response\n",
    "        data = response.json()\n",
    "        \n",
    "        # Extract relevant fields: authors, title, and references\n",
    "        authors = data[0].get(\"author\", \"\")\n",
    "        title = data[0].get(\"title\", \"\")\n",
    "        references = data[0].get(\"reference\", \"\")\n",
    "\n",
    "\n",
    "        return authors, title, references\n",
    "    else:\n",
    "        # If the request fails, print the error message\n",
    "        print(f\"Failed to retrieve metadata for DOI {doi}. Error: {response.text}\")\n",
    "        return None, None, None\n",
    "\n",
    "# Example DOI\n",
    "example_doi = \"10.1007/s11192-019-03217-6\"\n",
    "\n",
    "# Retrieve metadata for the example DOI\n",
    "authors, title, references = get_metadata(example_doi)\n",
    "\n",
    "# Print the retrieved information\n",
    "print(\"Authors:\", authors)\n",
    "print(\"Title:\", title)\n",
    "print(\"References:\", references)\n",
    "\n",
    "\n"
   ]
  },
  {
   "cell_type": "code",
   "execution_count": 13,
   "metadata": {},
   "outputs": [],
   "source": [
    "reference_list = references.split(\"; \")\n"
   ]
  },
  {
   "cell_type": "code",
   "execution_count": 14,
   "metadata": {},
   "outputs": [
    {
     "name": "stdout",
     "output_type": "stream",
     "text": [
      "Authors of 10.6084/m9.figshare.7873559: \n",
      "Authors of 10.3233/sw-150197: Rietveld, Laurens; Hoekstra, Rinke\n",
      "Authors of 10.4103/0976-500x.85940: Ahmed, Mkk, 0000-0002-6705-4949; Dhubaib, Bandar E. Al\n",
      "Authors of 10.59350/zcrhs-r7h02: Peroni, Silvio\n",
      "Authors of 10.1007/978-3-319-17966-7_10: Bagnacani, Andrea; Ciancarini, Paolo, 0000-0002-7958-9924; Di Iorio, Angelo; Nuzzolese, Andrea Giovanni, 0000-0003-2928-9496; Peroni, Silvio, 0000-0003-0530-4305; Vitali, Fabio, 0000-0002-7562-5203\n",
      "Authors of 10.1007/s11192-009-0146-3: Van Eck, Nees Jan, 0000-0001-8448-4521; Waltman, Ludo, 0000-0001-8249-1752\n",
      "Authors of 10.1007/978-3-030-00668-6_8: Peroni, Silvio, 0000-0003-0530-4305; Shotton, David\n",
      "Authors of 10.1007/978-3-319-53637-8_6: Alexiou, Giorgos; Vahdati, Sahar; Lange, Christoph, 0000-0001-9879-3827; Papastefanatos, George, 0000-0002-9273-9843; Lohmann, Steffen\n",
      "Authors of 10.6084/m9.figshare.7127816: \n",
      "Authors of 10.1016/j.websem.2012.08.001: Peroni, Silvio, 0000-0003-0530-4305; Shotton, D M, 0000-0001-5506-523\n",
      "Authors of 10.1007/978-3-319-11955-7_42: Falco, Riccardo; Gangemi, Aldo, 0000-0001-5568-2684; Peroni, Silvio, 0000-0003-0530-4305; Shotton, David; Vitali, Fabio, 0000-0002-7562-5203\n",
      "Authors of 10.1007/978-3-319-11964-9_4: Erxleben, Fredo; Günther, Michael, 0000-0002-8158-935; Krötzsch, Markus; Mendez, Julian; Vrandečić, Denny\n",
      "Authors of 10.6084/m9.figshare.3443876: \n",
      "Authors of 10.1007/978-3-319-68204-4_19: Peroni, Silvio, 0000-0003-0530-4305; Shotton, David; Vitali, Fabio\n",
      "Authors of 10.1007/978-3-319-46547-0_16: Nuzzolese, Andrea Giovanni, 0000-0003-2928-9496; Gentile, Anna Lisa; Presutti, Valentina; Gangemi, Aldo, 0000-0001-5568-2684\n",
      "Authors of 10.7717/peerj.4201: GarcĂ­a-Castro, Alexander, 0000-0003-1238-2539; Dumontier, Michel, 0000-0003-4727-9435; Olga Giraldo; VĂ­ctor A. Bucheli; Lopez, Federico, 0000-0002-7138-3542; Leyla Garcia\n",
      "Authors of 10.3233/ds-190016: Heibi, Ivan, 0000-0001-5366-5194; Peroni, Silvio, 0000-0003-0530-4305; Shotton, D M, 0000-0001-5506-523\n",
      "Authors of 10.1038/nature.2017.21800: Schiermeier, Quirin\n",
      "Authors of 10.1038/sdata.2016.18: Brookes, Anthony J., 0000-0001-8686-0017; Martone, Maryann E, 0000-0002-8406-3871\n",
      "Authors of 10.6084/m9.figshare.6683855: \n"
     ]
    }
   ],
   "source": [
    "import requests\n",
    "\n",
    "# Define a function to retrieve metadata for a given DOI\n",
    "def get_metadata(doi):\n",
    "    url = f\"https://opencitations.net/index/api/v1/metadata/{doi}\"\n",
    "    response = requests.get(url)\n",
    "    if response.status_code == 200:\n",
    "        metadata = response.json()\n",
    "        return metadata\n",
    "    else:\n",
    "        return None\n",
    "\n",
    "# Process the references to get authors\n",
    "for reference_doi in reference_list:\n",
    "    metadata = get_metadata(reference_doi)\n",
    "    if metadata:\n",
    "        authors = metadata[0]['author']\n",
    "        print(f\"Authors of {reference_doi}: {authors}\")\n",
    "    else:\n",
    "        print(f\"Metadata not found for {reference_doi}\")\n",
    "        \n"
   ]
  }
 ],
 "metadata": {
  "kernelspec": {
   "display_name": "Python 3",
   "language": "python",
   "name": "python3"
  },
  "language_info": {
   "codemirror_mode": {
    "name": "ipython",
    "version": 3
   },
   "file_extension": ".py",
   "mimetype": "text/x-python",
   "name": "python",
   "nbconvert_exporter": "python",
   "pygments_lexer": "ipython3",
   "version": "3.11.6"
  }
 },
 "nbformat": 4,
 "nbformat_minor": 2
}
